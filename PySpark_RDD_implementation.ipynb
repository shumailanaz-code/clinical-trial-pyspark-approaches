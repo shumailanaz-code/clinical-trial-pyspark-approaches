{
 "cells": [
  {
   "cell_type": "markdown",
   "metadata": {
    "application/vnd.databricks.v1+cell": {
     "cellMetadata": {
      "byteLimit": 2048000,
      "rowLimit": 10000
     },
     "inputWidgets": {},
     "nuid": "7a6f2d64-c7e6-45fd-8626-5e897491ebfe",
     "showTitle": false,
     "title": ""
    }
   },
   "source": [
    "Process to Make Notebook Reuseable"
   ]
  },
  {
   "cell_type": "code",
   "execution_count": 0,
   "metadata": {
    "application/vnd.databricks.v1+cell": {
     "cellMetadata": {
      "byteLimit": 2048000,
      "rowLimit": 10000
     },
     "inputWidgets": {},
     "nuid": "7ed9fb84-ce5b-4db7-9bef-d27a688b6314",
     "showTitle": false,
     "title": ""
    }
   },
   "outputs": [],
   "source": [
    "%sh\n",
    "\n",
    "# Clean the local file system from the contents that the notebook needs to recreate\n",
    "\n",
    "rm -f /tmp/clinicaltrial_2023.zip\n",
    "rm -f /tmp/clinicaltrial_2023.csv\n",
    "rm -f /tmp/clinicaltrial_2021.zip\n",
    "rm -f /tmp/clinicaltrial_2021.csv\n",
    "rm -f /tmp/clinicaltrial_2020.zip\n",
    "rm -f /tmp/clinicaltrial_2020.csv\n",
    "rm -f /tmp/pharma.zip\n",
    "rm -f /tmp/pharma.csv\n"
   ]
  },
  {
   "cell_type": "code",
   "execution_count": 0,
   "metadata": {
    "application/vnd.databricks.v1+cell": {
     "cellMetadata": {
      "byteLimit": 2048000,
      "rowLimit": 10000
     },
     "inputWidgets": {},
     "nuid": "d492f160-b0ba-4941-85f9-f4816234b8b3",
     "showTitle": false,
     "title": ""
    }
   },
   "outputs": [
    {
     "output_type": "stream",
     "name": "stdout",
     "output_type": "stream",
     "text": [
      "Out[48]: False"
     ]
    }
   ],
   "source": [
    "# Clean the DBFS from the contents that the notebook needs to recreate\n",
    "\n",
    "dbutils.fs.rm(\"/FileStore/tables/clinicaltrial_2023\", True)\n",
    "dbutils.fs.rm(\"/FileStore/tables/clinicaltrial_2021\", True)\n",
    "dbutils.fs.rm(\"/FileStore/tables/clinicaltrial_2020\", True)\n",
    "dbutils.fs.rm(\"/FileStore/tables/pharma\", True)\n"
   ]
  },
  {
   "cell_type": "code",
   "execution_count": 0,
   "metadata": {
    "application/vnd.databricks.v1+cell": {
     "cellMetadata": {
      "byteLimit": 2048000,
      "rowLimit": 10000
     },
     "inputWidgets": {},
     "nuid": "f9bad137-ac7f-482e-b6e1-c21a3f27a1d6",
     "showTitle": false,
     "title": ""
    }
   },
   "outputs": [
    {
     "output_type": "stream",
     "name": "stdout",
     "output_type": "stream",
     "text": [
      "Out[49]: [FileInfo(path='dbfs:/FileStore/tables/Gross_Sales_Report_Croma-1.csv', name='Gross_Sales_Report_Croma-1.csv', size=216879, modificationTime=1706217883000),\n FileInfo(path='dbfs:/FileStore/tables/Gross_Sales_Report_Croma-2.csv', name='Gross_Sales_Report_Croma-2.csv', size=216879, modificationTime=1706218057000),\n FileInfo(path='dbfs:/FileStore/tables/Gross_Sales_Report_Croma.csv', name='Gross_Sales_Report_Croma.csv', size=216879, modificationTime=1706216609000),\n FileInfo(path='dbfs:/FileStore/tables/Occupancy_Detection_Data.csv', name='Occupancy_Detection_Data.csv', size=50968, modificationTime=1709125740000),\n FileInfo(path='dbfs:/FileStore/tables/TS021_2021_2.csv', name='TS021_2021_2.csv', size=497239, modificationTime=1710943154000),\n FileInfo(path='dbfs:/FileStore/tables/access_log.zip', name='access_log.zip', size=277102492, modificationTime=1707418462000),\n FileInfo(path='dbfs:/FileStore/tables/account-models/', name='account-models/', size=0, modificationTime=0),\n FileInfo(path='dbfs:/FileStore/tables/accounts.zip', name='accounts.zip', size=5297592, modificationTime=1706815732000),\n FileInfo(path='dbfs:/FileStore/tables/activations/', name='activations/', size=0, modificationTime=0),\n FileInfo(path='dbfs:/FileStore/tables/activations.zip', name='activations.zip', size=8411369, modificationTime=1706706574000),\n FileInfo(path='dbfs:/FileStore/tables/clinicaltrial_2020.zip', name='clinicaltrial_2020.zip', size=10599182, modificationTime=1713550114000),\n FileInfo(path='dbfs:/FileStore/tables/clinicaltrial_2021.zip', name='clinicaltrial_2021.zip', size=11508457, modificationTime=1713550115000),\n FileInfo(path='dbfs:/FileStore/tables/clinicaltrial_2023.zip', name='clinicaltrial_2023.zip', size=57166668, modificationTime=1713552229000),\n FileInfo(path='dbfs:/FileStore/tables/ethnic.csv/', name='ethnic.csv/', size=0, modificationTime=0),\n FileInfo(path='dbfs:/FileStore/tables/flood.csv', name='flood.csv', size=128984, modificationTime=1707921464000),\n FileInfo(path='dbfs:/FileStore/tables/logs.zip', name='logs.zip', size=18168065, modificationTime=1706815800000),\n FileInfo(path='dbfs:/FileStore/tables/movies.csv', name='movies.csv', size=494431, modificationTime=1709730526000),\n FileInfo(path='dbfs:/FileStore/tables/myratings.csv', name='myratings.csv', size=10683, modificationTime=1709730538000),\n FileInfo(path='dbfs:/FileStore/tables/pharma.zip', name='pharma.zip', size=109982, modificationTime=1713550117000),\n FileInfo(path='dbfs:/FileStore/tables/ratings.csv', name='ratings.csv', size=2483723, modificationTime=1709730547000),\n FileInfo(path='dbfs:/FileStore/tables/steam_200k.csv', name='steam_200k.csv', size=8059447, modificationTime=1712529687000),\n FileInfo(path='dbfs:/FileStore/tables/test.json', name='test.json', size=17958, modificationTime=1706102076000),\n FileInfo(path='dbfs:/FileStore/tables/webpage/', name='webpage/', size=0, modificationTime=0),\n FileInfo(path='dbfs:/FileStore/tables/webpage.zip', name='webpage.zip', size=1582, modificationTime=1707310666000),\n FileInfo(path='dbfs:/FileStore/tables/webpage_files_all/', name='webpage_files_all/', size=0, modificationTime=0),\n FileInfo(path='dbfs:/FileStore/tables/webpage_files_jpg/', name='webpage_files_jpg/', size=0, modificationTime=0)]"
     ]
    }
   ],
   "source": [
    "# View the uploaded Files\n",
    "\n",
    "dbutils.fs.ls(\"FileStore/tables\")\n"
   ]
  },
  {
   "cell_type": "markdown",
   "metadata": {
    "application/vnd.databricks.v1+cell": {
     "cellMetadata": {
      "byteLimit": 2048000,
      "rowLimit": 10000
     },
     "inputWidgets": {},
     "nuid": "c53e7c9f-1d2d-46e6-b0db-8093c618099b",
     "showTitle": false,
     "title": ""
    }
   },
   "source": [
    "Process to Unzip the Files"
   ]
  },
  {
   "cell_type": "code",
   "execution_count": 0,
   "metadata": {
    "application/vnd.databricks.v1+cell": {
     "cellMetadata": {
      "byteLimit": 2048000,
      "rowLimit": 10000
     },
     "inputWidgets": {},
     "nuid": "a0e93305-1677-4ffe-b2ef-101ffda66cf5",
     "showTitle": false,
     "title": ""
    }
   },
   "outputs": [
    {
     "output_type": "stream",
     "name": "stdout",
     "output_type": "stream",
     "text": [
      "Out[50]: True"
     ]
    }
   ],
   "source": [
    "# Step1: Copy the Files to Local File System\n",
    "\n",
    "dbutils.fs.cp(\"/FileStore/tables/clinicaltrial_2023.zip\", \"file:/tmp/\")\n",
    "dbutils.fs.cp(\"/FileStore/tables/clinicaltrial_2021.zip\", \"file:/tmp/\")\n",
    "dbutils.fs.cp(\"/FileStore/tables/clinicaltrial_2020.zip\", \"file:/tmp/\")\n",
    "dbutils.fs.cp(\"/FileStore/tables/pharma.zip\", \"file:/tmp/\")\n"
   ]
  },
  {
   "cell_type": "code",
   "execution_count": 0,
   "metadata": {
    "application/vnd.databricks.v1+cell": {
     "cellMetadata": {
      "byteLimit": 2048000,
      "rowLimit": 10000
     },
     "inputWidgets": {},
     "nuid": "5e11fed5-3644-48be-992e-2c67a4422e06",
     "showTitle": false,
     "title": ""
    }
   },
   "outputs": [
    {
     "output_type": "stream",
     "name": "stdout",
     "output_type": "stream",
     "text": [
      "Rserv\nRtmpeomZ1U\nchauffeur-daemon-params\nchauffeur-daemon.pid\nchauffeur-env.sh\nclinicaltrial_2020.zip\nclinicaltrial_2021.zip\nclinicaltrial_2023.zip\ncustom-spark.conf\ndriver-daemon-params\ndriver-daemon.pid\ndriver-env.sh\nhsperfdata_root\npharma.zip\npython_lsp_logs\nsystemd-private-e9cfedebbd1e4ac2a813a51fcec8ada9-apache2.service-I2Ky4f\nsystemd-private-e9cfedebbd1e4ac2a813a51fcec8ada9-ntp.service-k4TRSi\nsystemd-private-e9cfedebbd1e4ac2a813a51fcec8ada9-systemd-logind.service-2Nhjhh\nsystemd-private-e9cfedebbd1e4ac2a813a51fcec8ada9-systemd-resolved.service-QkxPZe\ntmp.GrIy9g72oE\n"
     ]
    }
   ],
   "source": [
    "%sh\n",
    "# View the Files Copied in Local File System\n",
    "\n",
    "ls /tmp/\n"
   ]
  },
  {
   "cell_type": "code",
   "execution_count": 0,
   "metadata": {
    "application/vnd.databricks.v1+cell": {
     "cellMetadata": {
      "byteLimit": 2048000,
      "rowLimit": 10000
     },
     "inputWidgets": {},
     "nuid": "43ec13bc-e973-47b8-9f95-4c5d65b45d07",
     "showTitle": false,
     "title": ""
    }
   },
   "outputs": [
    {
     "output_type": "stream",
     "name": "stdout",
     "output_type": "stream",
     "text": [
      "Archive:  /tmp/clinicaltrial_2023.zip\n  inflating: /tmp/clinicaltrial_2023.csv  \nArchive:  /tmp/clinicaltrial_2021.zip\n  inflating: /tmp/clinicaltrial_2021.csv  \nArchive:  /tmp/clinicaltrial_2020.zip\n  inflating: /tmp/clinicaltrial_2020.csv  \nArchive:  /tmp/pharma.zip\n  inflating: /tmp/pharma.csv         \n"
     ]
    }
   ],
   "source": [
    "%sh\n",
    "#Step2: Unzip all the Files using UNIX Command\n",
    "\n",
    "unzip -d /tmp/ /tmp/clinicaltrial_2023.zip\n",
    "unzip -d /tmp/ /tmp/clinicaltrial_2021.zip\n",
    "unzip -d /tmp/ /tmp/clinicaltrial_2020.zip\n",
    "unzip -d /tmp/ /tmp/pharma.zip\n"
   ]
  },
  {
   "cell_type": "code",
   "execution_count": 0,
   "metadata": {
    "application/vnd.databricks.v1+cell": {
     "cellMetadata": {
      "byteLimit": 2048000,
      "rowLimit": 10000
     },
     "inputWidgets": {},
     "nuid": "15834f49-0dea-4544-9969-94869b155089",
     "showTitle": false,
     "title": ""
    }
   },
   "outputs": [
    {
     "output_type": "stream",
     "name": "stdout",
     "output_type": "stream",
     "text": [
      "Out[53]: True"
     ]
    }
   ],
   "source": [
    "# Step3: Creating DBFS Directories for all the Files\n",
    "\n",
    "dbutils.fs.mkdirs(\"FileStore/tables/clinicaltrial_2023\")\n",
    "dbutils.fs.mkdirs(\"FileStore/tables/clinicaltrial_2021\")\n",
    "dbutils.fs.mkdirs(\"FileStore/tables/clinicaltrial_2020\")\n",
    "dbutils.fs.mkdirs(\"FileStore/tables/pharma\")\n"
   ]
  },
  {
   "cell_type": "code",
   "execution_count": 0,
   "metadata": {
    "application/vnd.databricks.v1+cell": {
     "cellMetadata": {
      "byteLimit": 2048000,
      "rowLimit": 10000
     },
     "inputWidgets": {},
     "nuid": "419fa5ab-2322-4afe-8a57-728235b60290",
     "showTitle": false,
     "title": ""
    }
   },
   "outputs": [
    {
     "output_type": "stream",
     "name": "stdout",
     "output_type": "stream",
     "text": [
      "Out[54]: True"
     ]
    }
   ],
   "source": [
    "# Step4: Moving all the extracted CSV Files from tmp Directory to DBFS Directory\n",
    "\n",
    "dbutils.fs.mv(\"file:/tmp/clinicaltrial_2023.csv\", \"/FileStore/tables/clinicaltrial_2023.csv\", True)\n",
    "dbutils.fs.mv(\"file:/tmp/clinicaltrial_2021.csv\", \"/FileStore/tables/clinicaltrial_2021.csv\", True)\n",
    "dbutils.fs.mv(\"file:/tmp/clinicaltrial_2020.csv\", \"/FileStore/tables/clinicaltrial_2020.csv\", True)\n",
    "dbutils.fs.mv(\"file:/tmp/pharma.csv\", \"/FileStore/tables/pharma.csv\", True)\n"
   ]
  },
  {
   "cell_type": "code",
   "execution_count": 0,
   "metadata": {
    "application/vnd.databricks.v1+cell": {
     "cellMetadata": {
      "byteLimit": 2048000,
      "rowLimit": 10000
     },
     "inputWidgets": {},
     "nuid": "3eb5d8c8-e166-4f52-9901-ccbb72a71ec2",
     "showTitle": false,
     "title": ""
    }
   },
   "outputs": [
    {
     "output_type": "stream",
     "name": "stdout",
     "output_type": "stream",
     "text": [
      "Out[55]: [FileInfo(path='dbfs:/FileStore/tables/clinicaltrial_2023.csv', name='clinicaltrial_2023.csv', size=292436366, modificationTime=1713555224000)]"
     ]
    }
   ],
   "source": [
    "# View the Files moved to DBFS\n",
    "\n",
    "dbutils.fs.ls(\"FileStore/tables/clinicaltrial_2023.csv\")\n"
   ]
  },
  {
   "cell_type": "code",
   "execution_count": 0,
   "metadata": {
    "application/vnd.databricks.v1+cell": {
     "cellMetadata": {
      "byteLimit": 2048000,
      "rowLimit": 10000
     },
     "inputWidgets": {},
     "nuid": "0cb44f58-e720-4fd6-9d79-b98172fd463e",
     "showTitle": false,
     "title": ""
    }
   },
   "outputs": [
    {
     "output_type": "stream",
     "name": "stdout",
     "output_type": "stream",
     "text": [
      "Out[56]: [FileInfo(path='dbfs:/FileStore/tables/pharma.csv', name='pharma.csv', size=678999, modificationTime=1713555234000)]"
     ]
    }
   ],
   "source": [
    "# View the Files moved to DBFS\n",
    "\n",
    "dbutils.fs.ls(\"FileStore/tables/pharma.csv\")\n"
   ]
  },
  {
   "cell_type": "markdown",
   "metadata": {
    "application/vnd.databricks.v1+cell": {
     "cellMetadata": {
      "byteLimit": 2048000,
      "rowLimit": 10000
     },
     "inputWidgets": {},
     "nuid": "212e79de-a94b-4a01-9036-7460a0d1f305",
     "showTitle": false,
     "title": ""
    }
   },
   "source": [
    "Data Cleaning and Preparation"
   ]
  },
  {
   "cell_type": "code",
   "execution_count": 0,
   "metadata": {
    "application/vnd.databricks.v1+cell": {
     "cellMetadata": {
      "byteLimit": 2048000,
      "rowLimit": 10000
     },
     "inputWidgets": {},
     "nuid": "6c3f43b0-1783-41e2-a537-c7ea1ce247cc",
     "showTitle": false,
     "title": ""
    }
   },
   "outputs": [],
   "source": [
    "### Creating RDD for clinicaltrial_2023\n",
    "\n",
    "RDD_2023 = sc.textFile(\"/FileStore/tables/clinicaltrial_2023.csv\")\n"
   ]
  },
  {
   "cell_type": "code",
   "execution_count": 0,
   "metadata": {
    "application/vnd.databricks.v1+cell": {
     "cellMetadata": {
      "byteLimit": 2048000,
      "rowLimit": 10000
     },
     "inputWidgets": {},
     "nuid": "c9838211-bb76-45ef-8b34-4a64b87b9887",
     "showTitle": false,
     "title": ""
    }
   },
   "outputs": [],
   "source": [
    "### Cleaning RDD for clinicaltrial_2023\n",
    "\n",
    "# Assign First line as header\n",
    "\n",
    "ct23_header = RDD_2023.first()\n",
    "\n",
    "# Remove Header from RDD\n",
    "\n",
    "myRDD_2023 = RDD_2023.filter(lambda row: row != ct23_header)\n",
    "\n",
    "# Define a Function to remove_commas at the end of Each String\n",
    "\n",
    "def remove_commas(row):\n",
    "    cleaned_rows = row.rstrip(',')\n",
    "    return cleaned_rows\n",
    "\n",
    "# Apply the remove_commas function to each row of myRDD_2023\n",
    "\n",
    "cleanedRDD_2023 = myRDD_2023.map(remove_commas)\n",
    "\n",
    "# Remove rows with missing values\n",
    "\n",
    "RDD_ct2023 = cleanedRDD_2023.filter(lambda row: all(x is not None for x in row))\n",
    "\n",
    "# Split RDD values by delimeter\n",
    "\n",
    "RDD_ct2023 = RDD_ct2023.map(lambda line: line.split(\"\\t\"))\n"
   ]
  },
  {
   "cell_type": "code",
   "execution_count": 0,
   "metadata": {
    "application/vnd.databricks.v1+cell": {
     "cellMetadata": {
      "byteLimit": 2048000,
      "rowLimit": 10000
     },
     "inputWidgets": {},
     "nuid": "73e4a8a5-5f7d-4ff2-92eb-40c0cea4df10",
     "showTitle": false,
     "title": ""
    }
   },
   "outputs": [
    {
     "output_type": "stream",
     "name": "stdout",
     "output_type": "stream",
     "text": [
      "Out[59]: [['\"NCT03630471',\n  'Effectiveness of a Problem-solving Intervention for Common Adolescent Mental Health Problems in India',\n  'PRIDE',\n  'COMPLETED',\n  'Mental Health Issue (E.G.\", Depression, Psychosis, Personality Disorder,\" Substance Abuse)',\n  \"BEHAVIORAL: PRIDE 'Step 1' problem-solving intervention|BEHAVIORAL: Enhanced usual care\",\n  'Sangath',\n  'Harvard Medical School (HMS and HSDM)|London School of Hygiene and Tropical Medicine',\n  '250.0',\n  'OTHER',\n  'INTERVENTIONAL',\n  'Allocation: RANDOMIZED|Intervention Model: PARALLEL|Masking: DOUBLE (INVESTIGATOR\",\" OUTCOMES_ASSESSOR)|Primary Purpose: TREATMENT',\n  '2018-08-20',\n  '2019-02-28\"'],\n ['\"NCT05992571',\n  'Oral Ketone Monoester Supplementation and Resting-state Brain Connectivity',\n  '',\n  'RECRUITING',\n  'Cerebrovascular Function|Cognition',\n  'OTHER: Placebo|DIETARY_SUPPLEMENT: β-OHB',\n  'McMaster University',\n  'Alzheimer\\'s Society of Brant\", Haldimand Norfolk,\" Hamilton Halton',\n  '30.0',\n  'OTHER',\n  'INTERVENTIONAL',\n  'Allocation: RANDOMIZED|Intervention Model: CROSSOVER|Masking: TRIPLE (PARTICIPANT\", INVESTIGATOR,\" OUTCOMES_ASSESSOR)|Primary Purpose: BASIC_SCIENCE',\n  '2023-10-25',\n  '2024-08\"'],\n ['\"NCT00237471',\n  'Impact of Tight Glycaemic Control in Acute Myocardial Infarction',\n  '',\n  'TERMINATED',\n  'Myocardial Infarct|Hyperglycemia',\n  'DRUG: Insulin (tight blood glucose control)',\n  'Melbourne Health',\n  'National Health and Medical Research Council\",\" Australia|Bristol-Myers Squibb',\n  '40.0',\n  'OTHER',\n  'INTERVENTIONAL',\n  'Allocation: RANDOMIZED|Intervention Model: PARALLEL|Masking: NONE|Primary Purpose: TREATMENT',\n  '2005-10',\n  '2006-05\"'],\n ['\"NCT03820271',\n  'New Prognostic Predictive Models of Mortality of Decompensated Cirrhotic Patients Waiting for Liver Transplantation',\n  'SUPERMELD',\n  'RECRUITING',\n  'Decompensated Cirrhosis|Liver Transplantation',\n  'OTHER: SuperMELD',\n  'Assistance Publique - Hôpitaux de Paris',\n  '',\n  '500.0',\n  'OTHER',\n  'INTERVENTIONAL',\n  'Allocation: NA|Intervention Model: SINGLE_GROUP|Masking: NONE|Primary Purpose: OTHER',\n  '2020-10-01',\n  '2023-10-01\"'],\n ['\"NCT06229171',\n  'InTake Care: Development and Validation of an Innovative\",\" Personalized Digital Health Solution for Medication Adherence Support in Cardiovascular Prevention',\n  'InTakeCare',\n  'NOT_YET_RECRUITING',\n  'Hypertension|Treatment Adherence and Compliance|Digital Health',\n  'OTHER: adherence support system based on a vocal assistant',\n  'Istituto Auxologico Italiano',\n  'Istituti Clinici Scientifici Maugeri SpA|Politecnico di Milano',\n  '206.0',\n  'OTHER',\n  'INTERVENTIONAL',\n  'Allocation: RANDOMIZED|Intervention Model: PARALLEL|Masking: NONE|Primary Purpose: OTHER',\n  '2024-10-01',\n  '2026-04-01\"']]"
     ]
    }
   ],
   "source": [
    "# View RDD of clinicaltrial_2023\n",
    "\n",
    "RDD_ct2023.take(5)"
   ]
  },
  {
   "cell_type": "code",
   "execution_count": 0,
   "metadata": {
    "application/vnd.databricks.v1+cell": {
     "cellMetadata": {
      "byteLimit": 2048000,
      "rowLimit": 10000
     },
     "inputWidgets": {},
     "nuid": "78ef0a80-0298-456e-a129-8db1cf2858c7",
     "showTitle": false,
     "title": ""
    }
   },
   "outputs": [],
   "source": [
    "### Creating RDD for clinicaltrial_2021, clinicaltrial_2020 and pharma\n",
    "\n",
    "RDD_2021 = sc.textFile(\"/FileStore/tables/clinicaltrial_2021.csv\")\n",
    "RDD_2020 = sc.textFile(\"/FileStore/tables/clinicaltrial_2020.csv\")\n",
    "RDD_Pharma = sc.textFile(\"/FileStore/tables/pharma.csv\")\n"
   ]
  },
  {
   "cell_type": "code",
   "execution_count": 0,
   "metadata": {
    "application/vnd.databricks.v1+cell": {
     "cellMetadata": {
      "byteLimit": 2048000,
      "rowLimit": 10000
     },
     "inputWidgets": {},
     "nuid": "4ac47065-9d57-4d83-a7c9-806db7b3418b",
     "showTitle": false,
     "title": ""
    }
   },
   "outputs": [],
   "source": [
    "### Cleaning RDD for clinicaltrial_2021, clinicaltrial_2020 and pharma\n",
    "\n",
    "# Assign First line as Header\n",
    "\n",
    "ct21_header = RDD_2021.first()\n",
    "ct20_header = RDD_2020.first()\n",
    "ph_header = RDD_Pharma.first()\n",
    "\n",
    "# Remove Header from RDD\n",
    "\n",
    "myRDD_2021 = RDD_2021.filter(lambda row: row != ct21_header)\n",
    "myRDD_2020 = RDD_2020.filter(lambda row: row != ct20_header)\n",
    "myRDD_pharma = RDD_Pharma.filter(lambda row: row != ph_header)\n",
    "\n",
    "# Remove rows with missing values\n",
    "\n",
    "RDD_ct2021 = myRDD_2021.filter(lambda row: all(x is not None for x in row))\n",
    "RDD_ct2020 = myRDD_2020.filter(lambda row: all(x is not None for x in row))\n",
    "RDD_pharma = myRDD_pharma.filter(lambda row: all(x is not None for x in row))\n",
    "\n",
    "# Split RDD values by delimeter\n",
    "\n",
    "RDD_ct2021 = RDD_ct2021.map(lambda line: line.split(\"|\"))\n",
    "RDD_ct2020 = RDD_ct2020.map(lambda line: line.split(\"|\"))\n"
   ]
  },
  {
   "cell_type": "code",
   "execution_count": 0,
   "metadata": {
    "application/vnd.databricks.v1+cell": {
     "cellMetadata": {
      "byteLimit": 2048000,
      "rowLimit": 10000
     },
     "inputWidgets": {},
     "nuid": "e43da9db-ab58-41ef-8386-e7498a9f3014",
     "showTitle": false,
     "title": ""
    }
   },
   "outputs": [
    {
     "output_type": "stream",
     "name": "stdout",
     "output_type": "stream",
     "text": [
      "Out[62]: [['NCT02758028',\n  'The University of Hong Kong',\n  'Recruiting',\n  'Aug 2005',\n  'Nov 2021',\n  'Interventional',\n  'Apr 2016',\n  '',\n  ''],\n ['NCT02751957',\n  'Duke University',\n  'Completed',\n  'Jul 2016',\n  'Jul 2020',\n  'Interventional',\n  'Apr 2016',\n  'Autistic Disorder,Autism Spectrum Disorder',\n  ''],\n ['NCT02758483',\n  'Universidade Federal do Rio de Janeiro',\n  'Completed',\n  'Mar 2017',\n  'Jan 2018',\n  'Interventional',\n  'Apr 2016',\n  'Diabetes Mellitus',\n  ''],\n ['NCT02759848',\n  'Istanbul Medeniyet University',\n  'Completed',\n  'Jan 2012',\n  'Dec 2014',\n  'Observational',\n  'May 2016',\n  'Tuberculosis,Lung Diseases,Pulmonary Disease',\n  ''],\n ['NCT02758860',\n  'University of Roma La Sapienza',\n  'Active, not recruiting',\n  'Jun 2016',\n  'Sep 2020',\n  'Observational [Patient Registry]',\n  'Apr 2016',\n  'Diverticular Diseases,Diverticulum,Diverticulosis',\n  '']]"
     ]
    }
   ],
   "source": [
    "# View RDD of clinicaltrial_2021\n",
    "\n",
    "RDD_ct2021.take(5)"
   ]
  },
  {
   "cell_type": "code",
   "execution_count": 0,
   "metadata": {
    "application/vnd.databricks.v1+cell": {
     "cellMetadata": {
      "byteLimit": 2048000,
      "rowLimit": 10000
     },
     "inputWidgets": {},
     "nuid": "98d0446f-ab61-4048-bf23-15b9c869418b",
     "showTitle": false,
     "title": ""
    }
   },
   "outputs": [
    {
     "output_type": "stream",
     "name": "stdout",
     "output_type": "stream",
     "text": [
      "Out[63]: [['NCT02758028',\n  'The University of Hong Kong',\n  'Recruiting',\n  'Aug 2005',\n  'Nov 2021',\n  'Interventional',\n  'Apr 2016',\n  '',\n  ''],\n ['NCT02751957',\n  'Duke University',\n  'Completed',\n  'Jul 2016',\n  'Jul 2020',\n  'Interventional',\n  'Apr 2016',\n  'Autistic Disorder,Autism Spectrum Disorder',\n  ''],\n ['NCT02758483',\n  'Universidade Federal do Rio de Janeiro',\n  'Completed',\n  'Mar 2017',\n  'Jan 2018',\n  'Interventional',\n  'Apr 2016',\n  'Diabetes Mellitus',\n  ''],\n ['NCT02759848',\n  'Istanbul Medeniyet University',\n  'Completed',\n  'Jan 2012',\n  'Dec 2014',\n  'Observational',\n  'May 2016',\n  'Tuberculosis,Lung Diseases,Pulmonary Disease',\n  ''],\n ['NCT02758860',\n  'University of Roma La Sapienza',\n  'Active, not recruiting',\n  'Jun 2016',\n  'Sep 2020',\n  'Observational [Patient Registry]',\n  'Apr 2016',\n  'Diverticular Diseases,Diverticulum,Diverticulosis',\n  '']]"
     ]
    }
   ],
   "source": [
    "# View RDD of clinicaltrial_2020\n",
    "\n",
    "RDD_ct2020.take(5)"
   ]
  },
  {
   "cell_type": "code",
   "execution_count": 0,
   "metadata": {
    "application/vnd.databricks.v1+cell": {
     "cellMetadata": {
      "byteLimit": 2048000,
      "rowLimit": 10000
     },
     "inputWidgets": {},
     "nuid": "745569ce-311e-45ac-be12-298ad971fe02",
     "showTitle": false,
     "title": ""
    }
   },
   "outputs": [
    {
     "output_type": "stream",
     "name": "stdout",
     "output_type": "stream",
     "text": [
      "Out[64]: ['\"Abbott Laboratories\",\"Abbott Laboratories\",\"$5,475,000\",\"$0\",\"$5,475,000\",\"2013\",\"20131227\",\"government-contracting-related offenses\",\"False Claims Act and related\",\"kickbacks and bribery\",\"Abbott Laboratories agreed to $5.475 million to resolve allegations that it violated the False Claims Act by paying kickbacks to induce doctors to implant the company\\'s carotid, biliary and peripheral vascular products.\",\"federal\",\"agency action\",\"Justice Department Civil Division\",\"civil\",\"\",\"\",\"\",\"\",\"\",\"\",\"\",\"\",\"\",\"\",\"\",\"USA\",\"Illinois\",\"publicly traded\",\"ABT\",\"pharmaceuticals\",\"pharmaceuticals\",\"https://www.justice.gov/opa/pr/abbott-laboratories-pays-us-5475-million-settle-claims-company-paid-kickbacks-physicians\",\"\"',\n '\"Abbott Laboratories Inc.\",\"AbbVie\",\"$1,500,000,000\",\"$0\",\"$1,500,000,000\",\"2012\",\"20120507\",\"healthcare-related offenses\",\"off-label or unapproved promotion of medical products\",\"\",\"Global Health Care Company Abbott Laboratories Inc. has pleaded guilty and agreed to pay $1.5 billion to resolve its criminal and civil liability arising from the company\\'s unlawful promotion of the prescription drug Depakote for uses not approved as safe and effective by the Food and Drug Administration. The resolution - the second largest payment by a drug company - includes a criminal fine and forfeiture totaling $700 million and civil settlements with the federal government and the states totaling $800 million. Abbott also will be subject to court-supervised probation and reporting obligations for Abbotts CEO and Board of Directors.\",\"federal\",\"agency action\",\"Food and Drug Administration referral to the Justice Department\",\"civil and criminal\",\"\",\"\",\"\",\"\",\"\",\"\",\"\",\"\",\"\",\"\",\"\",\"USA\",\"Illinois\",\"publicly traded\",\"ABBV\",\"pharmaceuticals\",\"pharmaceuticals\",\"http://www.justice.gov/opa/pr/abbott-labs-pay-15-billion-resolve-criminal-civil-investigations-label-promotion-depakote\",\"\"',\n '\"Abbott Laboratories Inc.\",\"AbbVie\",\"$126,500,000\",\"$0\",\"$126,500,000\",\"2010\",\"20101207\",\"government-contracting-related offenses\",\"False Claims Act and related\",\"\",\"Abbott Laboratories Inc., B. Braun Medical Inc. and Roxane Laboratories Inc. n/k/a Boehringer Ingelheim Roxane Inc. and affiliated entities agreed to pay $421 million to settle False Claims Act allegations, that they engaged in a scheme to report false and inflated prices for numerous pharmaceutical products knowing that federal healthcare programs relied on those reported prices to set payment rates.\",\"federal\",\"agency action\",\"Justice Department Civil Division\",\"civil\",\"\",\"\",\"\",\"\",\"\",\"\",\"\",\"\",\"\",\"\",\"\",\"USA\",\"Illinois\",\"publicly traded\",\"ABBV\",\"pharmaceuticals\",\"pharmaceuticals\",\"https://www.justice.gov/opa/pr/pharmaceutical-manufacturers-pay-4212-million-settle-false-claims-act-cases\",\"\"',\n '\"Abbott Laboratories Puerto Rico, Inc.\",\"Abbott Laboratories\",\"$49,045\",\"$0\",\"$49,045\",\"2009\",\"20090305\",\"employment-related offenses\",\"wage and hour violation\",\"Fair Labor Standards Act\",\"\",\"federal\",\"agency action\",\"Labor Department Wage and Hour Division\",\"civil\",\"\",\"\",\"1527129\",\"\",\"\",\"Puerto Rico\",\"San Juan\",\"\",\"\",\"423450\",\"423450: Medical, Dental, and Hospital Equipment and Supplies Merchant Wholesalers\",\"USA\",\"Illinois\",\"publicly traded\",\"ABT\",\"pharmaceuticals\",\"pharmaceuticals\",\"March 7, 2017 download of a dataset posted by the Wage and Hour Division at https://enforcedata.dol.gov/views/data_summary.php\",\"Date and year are the Findings End Date in the dataset posted by the Wage and Hour Division, which does not provide case opening or closing dates. The company name is the Legal Name provided by the dataset unless that field is blank, in which case the Trade Name is used. The dataset provides only one address and does not indicate whether it is the company headquarters address or the establishment address. The penalty amount is the total of civil monetary penalties and mandated back wages. The original dataset provides a breakdown.\"',\n '\"Acclarent Inc.\",\"Johnson & Johnson\",\"$18,000,000\",\"$0\",\"$18,000,000\",\"2016\",\"20160722\",\"government-contracting-related offenses\",\"False Claims Act and related\",\"\",\"California-based medical device manufacturer Acclarent Inc., a subsidiary of Johnson & Johnson, agreed to pay $18 million to resolve allegations that the company caused health care providers to submit false claims to Medicare and other federal health care programs by marketing and distributing its sinus spacer product for use as a drug delivery device without Food and Drug Administration approval.\",\"federal\",\"agency action\",\"Justice Department Civil Division\",\"civil\",\"\",\"\",\"\",\"\",\"\",\"\",\"\",\"\",\"\",\"\",\"\",\"USA\",\"New Jersey\",\"publicly traded\",\"JNJ\",\"pharmaceuticals\",\"pharmaceuticals\",\"https://www.justice.gov/opa/pr/johnson-johnson-subsidiary-acclarent-inc-pays-government-18-million-settle-false-claims-act\",\"\"']"
     ]
    }
   ],
   "source": [
    "# View RDD of pharma\n",
    "\n",
    "RDD_pharma.take(5)"
   ]
  },
  {
   "cell_type": "markdown",
   "metadata": {
    "application/vnd.databricks.v1+cell": {
     "cellMetadata": {
      "byteLimit": 2048000,
      "rowLimit": 10000
     },
     "inputWidgets": {},
     "nuid": "a8727a11-c984-40ab-8268-189caeaebdc2",
     "showTitle": false,
     "title": ""
    }
   },
   "source": [
    "Q1: The Number of Distinct Studies in the Dataset"
   ]
  },
  {
   "cell_type": "code",
   "execution_count": 0,
   "metadata": {
    "application/vnd.databricks.v1+cell": {
     "cellMetadata": {
      "byteLimit": 2048000,
      "rowLimit": 10000
     },
     "inputWidgets": {},
     "nuid": "3c66bc6d-d826-4f8b-862a-70bff10e1051",
     "showTitle": false,
     "title": ""
    }
   },
   "outputs": [
    {
     "output_type": "stream",
     "name": "stdout",
     "output_type": "stream",
     "text": [
      "Number of Distinct Studies 2023: 483422\n"
     ]
    }
   ],
   "source": [
    "### The Number of Studies in clinicaltrial_2023\n",
    "\n",
    "# Extract ID column for Distinct Studies\n",
    "\n",
    "StudiesRDD_2023 = RDD_ct2023.map(lambda row: row[0])\n",
    "\n",
    "# Count the Number of Distinct Studies\n",
    "\n",
    "NumberOfStudies2023 = StudiesRDD_2023.count()\n",
    "\n",
    "# Print the Result\n",
    "\n",
    "print(\"Number of Distinct Studies 2023:\", NumberOfStudies2023)"
   ]
  },
  {
   "cell_type": "code",
   "execution_count": 0,
   "metadata": {
    "application/vnd.databricks.v1+cell": {
     "cellMetadata": {
      "byteLimit": 2048000,
      "rowLimit": 10000
     },
     "inputWidgets": {},
     "nuid": "67de753e-6283-42aa-a449-3df4fe894303",
     "showTitle": false,
     "title": ""
    }
   },
   "outputs": [
    {
     "output_type": "stream",
     "name": "stdout",
     "output_type": "stream",
     "text": [
      "Number of Distinct Studies 2021: 387261\n"
     ]
    }
   ],
   "source": [
    "### The Number of Studies in clinicaltrial_2021\n",
    "\n",
    "# Extract ID column for Distinct Studies\n",
    "\n",
    "StudiesRDD_2021 = RDD_ct2021.map(lambda row: row[0])\n",
    "\n",
    "# Count the Number of Distinct Studies\n",
    "\n",
    "NumberOfStudies2021 = StudiesRDD_2021.count()\n",
    "\n",
    "# Print the Result\n",
    "\n",
    "print(\"Number of Distinct Studies 2021:\", NumberOfStudies2021)"
   ]
  },
  {
   "cell_type": "code",
   "execution_count": 0,
   "metadata": {
    "application/vnd.databricks.v1+cell": {
     "cellMetadata": {
      "byteLimit": 2048000,
      "rowLimit": 10000
     },
     "inputWidgets": {},
     "nuid": "52870d3e-1152-4506-ab56-65f08819c9c3",
     "showTitle": false,
     "title": ""
    }
   },
   "outputs": [
    {
     "output_type": "stream",
     "name": "stdout",
     "output_type": "stream",
     "text": [
      "Number of Distinct Studies 2020: 356466\n"
     ]
    }
   ],
   "source": [
    "### The Number of Studies in clinicaltrial_2020\n",
    "\n",
    "# Extract ID column for Distinct Studies\n",
    "\n",
    "StudiesRDD_2020 = RDD_ct2020.map(lambda row: row[0])\n",
    "\n",
    "# Count the Number of Distinct Studies\n",
    "\n",
    "NumberOfStudies2020 = StudiesRDD_2020.count()\n",
    "\n",
    "# Print the Result\n",
    "\n",
    "print(\"Number of Distinct Studies 2020:\", NumberOfStudies2020)"
   ]
  },
  {
   "cell_type": "markdown",
   "metadata": {
    "application/vnd.databricks.v1+cell": {
     "cellMetadata": {
      "byteLimit": 2048000,
      "rowLimit": 10000
     },
     "inputWidgets": {},
     "nuid": "01a83028-d4b6-438a-8e33-55034265ff6b",
     "showTitle": false,
     "title": ""
    }
   },
   "source": [
    "Q2: List all Types of Studies in the dataset along with the frequencies of each type and ordered them from most frequent to least frequent"
   ]
  },
  {
   "cell_type": "code",
   "execution_count": 0,
   "metadata": {
    "application/vnd.databricks.v1+cell": {
     "cellMetadata": {
      "byteLimit": 2048000,
      "rowLimit": 10000
     },
     "inputWidgets": {},
     "nuid": "8043b744-f635-4a0f-8c2e-61828c792792",
     "showTitle": false,
     "title": ""
    }
   },
   "outputs": [
    {
     "output_type": "stream",
     "name": "stdout",
     "output_type": "stream",
     "text": [
      "Type: INTERVENTIONAL, Frequency: 371382\nType: OBSERVATIONAL, Frequency: 110221\nType: EXPANDED_ACCESS, Frequency: 928\n"
     ]
    }
   ],
   "source": [
    "### Types of Studies for clinicaltrial_2023\n",
    "\n",
    "# Filter RDD to include only elements with length >= 11\n",
    "\n",
    "filter23_RDD = RDD_ct2023.filter(lambda x: len(x) >= 11)\n",
    "\n",
    "# Extract the Type from each element, filter out empty strings, and map to (Type, 1)\n",
    "\n",
    "type23_RDD = filter23_RDD.map(lambda x: x[10]) \\\n",
    "                             .filter(lambda x: x != \"\") \\\n",
    "                             .map(lambda x: (x, 1))\n",
    "\n",
    "# Frequency count of each Type\n",
    "\n",
    "type23_countRDD = type23_RDD.reduceByKey(lambda x, y: x + y)\n",
    "\n",
    "# Swap key-value pairs, Sort by frequency in descending order, and Swap back\n",
    "\n",
    "sorted_type23_countRDD = type23_countRDD.map(lambda x: (x[1], x[0])) \\\n",
    "                                               .sortByKey(ascending=False) \\\n",
    "                                               .map(lambda x: (x[1], x[0]))\n",
    "\n",
    "# Print the result\n",
    "for type_, frequency in sorted_type23_countRDD.collect():\n",
    "    print(f\"Type: {type_}, Frequency: {frequency}\")"
   ]
  },
  {
   "cell_type": "code",
   "execution_count": 0,
   "metadata": {
    "application/vnd.databricks.v1+cell": {
     "cellMetadata": {
      "byteLimit": 2048000,
      "rowLimit": 10000
     },
     "inputWidgets": {},
     "nuid": "c69e9d0c-c47d-4d46-bfd9-7eaa033454e9",
     "showTitle": false,
     "title": ""
    }
   },
   "outputs": [
    {
     "output_type": "display_data",
     "data": {
      "application/vnd.databricks.v1+bamboolib_hint": "{\"pd.DataFrames\": [], \"version\": \"0.0.1\"}",
      "text/plain": []
     },
     "metadata": {},
     "output_type": "display_data"
    },
    {
     "output_type": "display_data",
     "data": {
      "image/png": "[encoded data removed]"
     },
     "metadata": {
      "application/vnd.databricks.v1+output": {
       "addedWidgets": {},
       "arguments": {},
       "data": "data:image/png;base64,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\n",
       "datasetInfos": [],
       "metadata": {},
       "removedWidgets": [],
       "type": "image"
      }
     },
     "output_type": "display_data"
    }
   ],
   "source": [
    "### Visualization of Types of Studies for clinicaltrial_2023\n",
    "\n",
    "import pandas as pd\n",
    "import matplotlib.pyplot as plt\n",
    "\n",
    "# Convert RDD to DataFrame\n",
    "\n",
    "df_2023 = pd.DataFrame(sorted_type23_countRDD.collect(), columns=['Type', 'Frequency'])\n",
    "\n",
    "# Plotting the data\n",
    "\n",
    "plt.figure(figsize=(10, 6))\n",
    "plt.bar(df_2023['Type'], df_2023['Frequency'], color='skyblue')\n",
    "plt.title('Types of Studies in 2023')\n",
    "plt.xlabel('Type')\n",
    "plt.ylabel('Frequency')\n",
    "plt.xticks(rotation=90)\n",
    "plt.show()\n"
   ]
  },
  {
   "cell_type": "code",
   "execution_count": 0,
   "metadata": {
    "application/vnd.databricks.v1+cell": {
     "cellMetadata": {
      "byteLimit": 2048000,
      "rowLimit": 10000
     },
     "inputWidgets": {},
     "nuid": "b6eabf0d-4d2c-4743-a96c-553b0f6b8bcc",
     "showTitle": false,
     "title": ""
    }
   },
   "outputs": [
    {
     "output_type": "stream",
     "name": "stdout",
     "output_type": "stream",
     "text": [
      "Type: Interventional, Frequency: 301472\nType: Observational, Frequency: 77540\nType: Observational [Patient Registry], Frequency: 8180\nType: Expanded Access, Frequency: 69\n"
     ]
    }
   ],
   "source": [
    "### Types of Studies for clinicaltrial_2021\n",
    "\n",
    "# Extract the Type column\n",
    "\n",
    "type21_RDD = RDD_ct2021.map(lambda x: x[5])\n",
    "\n",
    "# Count the frequency of each Type\n",
    "\n",
    "type21_countRDD = type21_RDD .map(lambda x: (x, 1)).reduceByKey(lambda a, b: a + b)\n",
    "\n",
    "# Sort the results based on frequency in descending order\n",
    "\n",
    "sorted_type21_countRDD = type21_countRDD.sortBy(lambda x: x[1], ascending=False)\n",
    "\n",
    "# Print the results\n",
    "\n",
    "for type_, frequency in sorted_type21_countRDD.collect():\n",
    "    print(f\"Type: {type_}, Frequency: {frequency}\")"
   ]
  },
  {
   "cell_type": "code",
   "execution_count": 0,
   "metadata": {
    "application/vnd.databricks.v1+cell": {
     "cellMetadata": {
      "byteLimit": 2048000,
      "rowLimit": 10000
     },
     "inputWidgets": {},
     "nuid": "f8e76ab2-788c-477f-b9f3-8bf3b4d4e95a",
     "showTitle": false,
     "title": ""
    }
   },
   "outputs": [
    {
     "output_type": "stream",
     "name": "stdout",
     "output_type": "stream",
     "text": [
      "Type: Interventional, Frequency: 277631\nType: Observational, Frequency: 71434\nType: Observational [Patient Registry], Frequency: 7332\nType: Expanded Access, Frequency: 69\n"
     ]
    }
   ],
   "source": [
    "### Types of Studies for clinicaltrial_2020\n",
    "\n",
    "# Extract the Type column\n",
    "\n",
    "type20_RDD = RDD_ct2020.map(lambda x: x[5])\n",
    "\n",
    "# Count the frequency of each Type\n",
    "\n",
    "type20_countRDD = type20_RDD .map(lambda x: (x, 1)).reduceByKey(lambda a, b: a + b)\n",
    "\n",
    "# Sort the results based on frequency in descending order\n",
    "\n",
    "sorted_type20_countRDD = type20_countRDD.sortBy(lambda x: x[1], ascending=False)\n",
    "\n",
    "# Print the results\n",
    "\n",
    "for type_, frequency in sorted_type20_countRDD.collect():\n",
    "    print(f\"Type: {type_}, Frequency: {frequency}\")"
   ]
  },
  {
   "cell_type": "markdown",
   "metadata": {
    "application/vnd.databricks.v1+cell": {
     "cellMetadata": {
      "byteLimit": 2048000,
      "rowLimit": 10000
     },
     "inputWidgets": {},
     "nuid": "0cfcbfa6-0504-4f52-b75c-07169f4650c0",
     "showTitle": false,
     "title": ""
    }
   },
   "source": [
    "Q3: Top 5 Conditions with their Frequencies"
   ]
  },
  {
   "cell_type": "code",
   "execution_count": 0,
   "metadata": {
    "application/vnd.databricks.v1+cell": {
     "cellMetadata": {
      "byteLimit": 2048000,
      "rowLimit": 10000
     },
     "inputWidgets": {},
     "nuid": "18c67dc5-7333-415e-883c-b6e65c17004f",
     "showTitle": false,
     "title": ""
    }
   },
   "outputs": [
    {
     "output_type": "stream",
     "name": "stdout",
     "output_type": "stream",
     "text": [
      "condition: Healthy, Frequency: 9731\ncondition: Breast Cancer, Frequency: 7502\ncondition: Obesity, Frequency: 6549\ncondition: Stroke, Frequency: 4071\ncondition: Hypertension, Frequency: 4020\n"
     ]
    }
   ],
   "source": [
    "### Top 5 Conditions for clinicaltrial_2023\n",
    "\n",
    "# Filter out records with 'null' in the 5th position\n",
    "\n",
    "filtered_RDD23 = RDD_ct2023.filter(lambda x: x[4] != 'null'and x[4] != '')\n",
    "\n",
    "# Map each record to a tuple of (condition, 1) and then reduce by key to get the count of each condition\n",
    "\n",
    "condition_count_RDD23 = filtered_RDD23.flatMap(lambda x: x[4].split('|')) \\\n",
    "                                             .map(lambda x: (x.strip(), 1)) \\\n",
    "                                             .reduceByKey(lambda x, y: x + y)\n",
    "\n",
    "# Sort by count in descending order and take the top 5 conditions\n",
    "\n",
    "top5_conditions_2023 = condition_count_RDD23.sortBy(lambda x: x[1], ascending=False) \\\n",
    "                                               .take(5)\n",
    "\n",
    "# Print the top 5 conditions and their counts\n",
    "\n",
    "for condition, frequency in top5_conditions_2023:\n",
    "    print(f\"condition: {condition}, Frequency: {frequency}\")"
   ]
  },
  {
   "cell_type": "code",
   "execution_count": 0,
   "metadata": {
    "application/vnd.databricks.v1+cell": {
     "cellMetadata": {
      "byteLimit": 2048000,
      "rowLimit": 10000
     },
     "inputWidgets": {},
     "nuid": "612d3446-e5b3-4595-856d-5477e1610185",
     "showTitle": false,
     "title": ""
    }
   },
   "outputs": [
    {
     "output_type": "display_data",
     "data": {
      "image/png": "[encoded data removed]"
     },
     "metadata": {
      "application/vnd.databricks.v1+output": {
       "addedWidgets": {},
       "arguments": {},
       "data": "data:image/png;base64,iVBORw0KGgoAAAANSUhEUgAAAnAAAAG/CAYAAADYRepfAAAAOXRFWHRTb2Z0d2FyZQBNYXRwbG90bGliIHZlcnNpb24zLjUuMSwgaHR0cHM6Ly9tYXRwbG90bGliLm9yZy/YYfK9AAAACXBIWXMAAAsTAAALEwEAmpwYAAAugElEQVR4nO3deZglZX238fvLgDLIMiAjwgAOKg7iwuKoKDGLKGDcRmPURCMxRsgrMSYmGCEaXLMRNS6JEUUFRRAJQVQSRFSMJorDIos4QkSEAcKwDCCOLMPv/aOq8dB2D810n1NT3ffnus7Vp56qOvU7faanv/1UPU+lqpAkSVJ/bNR1AZIkSXpgDHCSJEk9Y4CTJEnqGQOcJElSzxjgJEmSesYAJ0mS1DMGOEmaRJIfJ3lW+/yIJB9bx7avSPLl0VUHSS5J8uujPKakDYMBTtKkkvx04HFPkjUDy6+YoWN8Msmd4441bx3bb5/kmCTXJrktyQ+SvD3JQ2ainslU1d9U1R+2NSxOUkk2Hlh/fFXtP8waJqjpcVX19Qe6X5KHJTkhyTVJbknyrSRPHbfN7ya5MsntSU5Nsk3b/uD2+39l+/2/IMlzBvbbPcnyJDe3j68k2X3ab1bSfRjgJE2qqjYfewA/AZ4/0Hb8DB7qHwaPVVVrJ9qoDRH/A8wHnlZVWwDPBhYAj5rBema7zYHvAk8CtgGOBb6UZHOAJI8DPgL8HrAd8DPgX9p9NwauAn4N2Ap4C3BSksXt+muAl7Svuy1wGnDi0N+RNMcY4CQ9YG0vzD+1PTjXtM8f3K779SRXt6ccb2hPQ85Ibx3wRuA24JVV9WOAqrqqqt5QVRe2x396ku+2PUvfTfL0gbq/nuSdbY/TbUm+nGTbgfW/1/Ys3Zjkr8a957cl+XS7+I326+q2x/BpSX4/yTcHtl+vOpJsmuTTbQ2r2323m+ibMe4U79uSnJTkuPY1L0mydKL9qupHVfXeqrq2qtZW1dHAg4Al7SavAL5QVd+oqp8CbwVenGSLqrq9qt5WVT+uqnuq6ovAFTRhkKpa3a4rIMBa4NETf5yS1pcBTtL6+CtgH2BPYA/gKTQ9MWMeTtP7sgg4CDg6yRIm97okNyU5N8lvrWO7ZwGnVNU9E61se+i+BHwAeCjwXpqepYcObPa7wKuBh9GElr9o990d+DBNr9MO7f47TlLHr7ZfF7Q9hv8zU3XQfL+2AnZq9/0jYM0kdYz3AprergU0PV8fmspOSfZsa7i8bXoc8L2x9VX1v8CdwGMm2He7tv2Sce2rgZ8DHwT+Zor1S5oiA5yk9fEK4B1VdX1VrQLeThN8Br21qu6oqrNpwsxLJ3mtDwC70gSZtwKfTLLvJNs+FLh2HXU9F7isqj5VVXdX1QnAD4DnD2zziar6YVWtAU6iCaHQnPb7YtvrdEdby4RBcQqmU8dd7ft8dNs7dm5V3TrF436zqk5vT0F/iiZcr1OSLdtt315Vt7TNmwO3jNv0FmCLcftuAhwPHFtVPxhcV1ULaILoHwPnT7F+SVNkgJO0PnYArhxYvrJtG3NzVd2+jvX3qqrzqurGNuicThMIXjzJcW8Etn8AdY0de9HA8nUDz39GE1bG9r1qoK7b2+Otj+nU8SngDODE9vT0P7RBaSrGv+amgwMtxksyH/gC8O2q+tuBVT8Fthy3+ZY0p6/H9t2orfVOmpD2S9rv4b8CxyV52BTfg6QpMMBJWh/XAI8YWN65bRuz9bhRoePXr8vYtVMT+QrwojY8TKWusWOvnMJxr6U5bQlAks1oesImq3Fd1ruOqrqrqt5eVbsDTweeB7zq/vZ7oNprFk8FrgYOGbf6EgZ675I8Engw8MN2OcAxNAMcfquq7lrHoTYCNuO+4VXSNBngJK2PE4C3JFnYXnz/18Cnx23z9iQPSvIMmhDyuYleKMlLkmyeZKMk+wOvpLl+ayLvpekJOjbJI9r9FyV5b5InAqcDj0kzBcbGSV4G7A58cQrv6WTgeUl+JcmDgHcw+f+Rq2hOrz5ykvXrXUeS30jyhDRTqdxKc0p1fU/lTnaMTWje7xrgoAmuKTweeH6SZ7RB/B001x6O9cB9GHgszajk+1yfl+TZSfZKMq89Pfte4Gbg0pl8D9JcZ4CTtD7eBSwHLgQuAs5r28ZcR/NL+xqaMPBH46+RGvAGmp6p1cBRwGsnm9usqm6i6ZW6C/hOktuAs2iuz7q8qm6kCYt/TnP6803A86rqhvt7Q1V1CXAo8Bma3ribaXqnJtr2Z8C7gW+1I0X3Gbd+veugGQByMk14uxQ4m+ZU5Uwa69nbn1+MpP1pG7bHvhd/RPPZXU9z7dvrANrgfAjNNXvX5ZfnBVxAE/BvAf6XZnqXA6vq5zP8HqQ5Lc1Ib0maGWnuDPDpqppsBKckaZrsgZMkSeoZA5wkSVLPeApVkiSpZ+yBkyRJ6plJJ3icrbbddttavHhx12VIkiTdr3PPPfeGqlo4vn3OBbjFixezfPnyrsuQJEm6X0nG39UF8BSqJElS7xjgJEmSemZoAS7Jx5Ncn+TigbZtkpyZ5LL269Zte5J8IMnlSS5MsvfAPge121+W5KCB9icluajd5wPtvfkkSZJmvWH2wH0SOHBc25uBs6pqV5rb37y5bX8OsGv7OJjmPnsk2QY4Engq8BTgyLHQ127z2oH9xh9LkiRpVhpagKuqbwA3jWt+IXBs+/xYYNlA+3HV+DawIMn2wAHAmVV1U1XdDJwJHNiu27Kqvl3NRHbHDbyWJEnSrDbqa+C2q6pr2+fXAdu1zxcBVw1sd3Xbtq72qydon1CSg5MsT7J81apV03sHkiRJHetsEEPbczaS20BU1dFVtbSqli5c+EtTqUiSJPXKqAPc/7WnP2m/Xt+2rwR2Gthux7ZtXe07TtAuSZI06406wJ0GjI0kPQj4/ED7q9rRqPsAt7SnWs8A9k+ydTt4YX/gjHbdrUn2aUefvmrgtSRJkma1od2JIckJwK8D2ya5mmY06d8BJyV5DXAl8NJ289OB3wQuB34GvBqgqm5K8k7gu+1276iqsYERr6MZ6Tof+I/2IUmSNOuluRRt7li6dGkN61Zap56/kqPOWME1q9eww4L5HHbAEpbtNenYCkmSpHVKcm5VLR3fPufuhTosp56/ksNPuYg1d60FYOXqNRx+ykUAhjhJkjSjvJXWDDnqjBX3hrcxa+5ay1FnrOioIkmSNFsZ4GbINavXPKB2SZKk9WWAmyE7LJj/gNolSZLWlwFuhhx2wBLmbzLvPm3zN5nHYQcs6agiSZI0WzmIYYaMDVR408kXcufae1jkKFRJkjQkBrgZtGyvRZxwzk8A+OwhT+u4GkmSNFt5ClWSJKlnDHCSJEk9Y4CTJEnqGQOcJElSzxjgJEmSesYAJ0mS1DMGOEmSpJ4xwEmSJPWMAU6SJKlnDHCSJEk9Y4CTJEnqGQOcJElSzxjgJEmSesYAJ0mS1DMGOEmSpJ4xwEmSJPWMAU6SJKlnDHCSJEk9Y4CTJEnqGQOcJElSzxjgJEmSesYAJ0mS1DMGOEmSpJ4xwEmSJPWMAU6SJKlnDHCSJEk9Y4CTJEnqGQOcJElSzxjgJEmSesYAJ0mS1DMGOEmSpJ4xwEmSJPWMAU6SJKlnDHCSJEk9Y4CTJEnqGQOcJElSzxjgJEmSesYAJ0mS1DMGOEmSpJ4xwEmSJPWMAU6SJKlnDHCSJEk9Y4CTJEnqGQOcJElSzxjgJEmSeqaTAJfkz5JckuTiJCck2TTJLkm+k+TyJJ9N8qB22we3y5e36xcPvM7hbfuKJAd08V4kSZJGbeQBLski4E+ApVX1eGAe8HLg74H3VdWjgZuB17S7vAa4uW1/X7sdSXZv93sccCDwL0nmjfK9SJIkdaGrU6gbA/OTbAxsBlwLPBM4uV1/LLCsff7Cdpl2/X5J0rafWFV3VNUVwOXAU0ZTviRJUndGHuCqaiXwj8BPaILbLcC5wOqqurvd7GpgUft8EXBVu+/d7fYPHWyfYJ/7SHJwkuVJlq9atWpm35AkSdKIdXEKdWua3rNdgB2Ah9CcAh2aqjq6qpZW1dKFCxcO81CSJElD18Up1GcBV1TVqqq6CzgF2BdY0J5SBdgRWNk+XwnsBNCu3wq4cbB9gn0kSZJmrS4C3E+AfZJs1l7Lth/wfeBrwEvabQ4CPt8+P61dpl3/1aqqtv3l7SjVXYBdgXNG9B4kSZI6s/H9bzKzquo7SU4GzgPuBs4Hjga+BJyY5F1t2zHtLscAn0pyOXATzchTquqSJCfRhL+7gUOrau1I34wkSVIHRh7gAKrqSODIcc0/YoJRpFX1c+C3J3mddwPvnvECJUmSNmDeiUGSJKlnDHCSJEk9Y4CTJEnqGQOcJElSzxjgJEmSesYAJ0mS1DOdTCMizTannr+So85YwTWr17DDgvkcdsASlu014a15JUmaNgOcNE2nnr+Sw0+5iDV3NfNIr1y9hsNPuQjAECdJGgpPoUrTdNQZK+4Nb2PW3LWWo85Y0VFFkqTZzgAnTdM1q9c8oHZJkqbLACdN0w4L5j+gdkmSpssAJ03TYQcsYf4m8+7TNn+TeRx2wJKOKpIkzXYOYpCmaWygwptOvpA7197DIkehSpKGzAAnzYBley3ihHN+AsBnD3lax9VIkmY7T6FKkiT1jAFOkiSpZwxwkiRJPWOAkyRJ6hkDnCRJUs8Y4CRJknrGACdJktQzBjhJkqSeMcBJkiT1jAFOkiSpZwxwkiRJPWOAkyRJ6hkDnCRJUs8Y4CRJknrGACdJktQzBjhJkqSeMcBJkiT1jAFOkiSpZwxwkiRJPWOAkyRJ6hkDnCRJUs9s3HUBktRnp56/kqPOWME1q9eww4L5HHbAEpbttajrsiTNcgY4SVpPp56/ksNPuYg1d60FYOXqNRx+ykUAhjhJQ+UpVElaT0edseLe8DZmzV1rOeqMFR1VJGmuMMBJ0nq6ZvWaB9QuSTPFACdJ62mHBfMfULskzRQDnCStp8MOWML8Tebdp23+JvM47IAlHVUkaa5wEIMkraexgQpvOvlC7lx7D4schSppRAxwkjQNy/ZaxAnn/ASAzx7ytI6rkTRXeApVkiSpZwxwkiRJPWOAkyRJ6hkDnCRJUs8Y4CRJknrGACdJktQzBjhJkqSeMcBJkiT1jAFOkiSpZzoJcEkWJDk5yQ+SXJrkaUm2SXJmksvar1u32ybJB5JcnuTCJHsPvM5B7faXJTmoi/ciSZI0al31wL0f+M+q2g3YA7gUeDNwVlXtCpzVLgM8B9i1fRwMfBggyTbAkcBTgacAR46FPkmSpNls5AEuyVbArwLHAFTVnVW1GnghcGy72bHAsvb5C4HjqvFtYEGS7YEDgDOr6qaquhk4EzhwZG9EkiSpI130wO0CrAI+keT8JB9L8hBgu6q6tt3mOmC79vki4KqB/a9u2yZr/yVJDk6yPMnyVatWzeBbkSRJGr0uAtzGwN7Ah6tqL+B2fnG6FICqKqBm6oBVdXRVLa2qpQsXLpypl5UkSepEFwHuauDqqvpOu3wyTaD7v/bUKO3X69v1K4GdBvbfsW2brF2SJGlWG3mAq6rrgKuSLGmb9gO+D5wGjI0kPQj4fPv8NOBV7WjUfYBb2lOtZwD7J9m6Hbywf9smSZI0q23c0XFfDxyf5EHAj4BX04TJk5K8BrgSeGm77enAbwKXAz9rt6WqbkryTuC77XbvqKqbRvcWJEmSutFJgKuqC4ClE6zab4JtCzh0ktf5OPDxGS1OkiRpA+edGCRJknrGACdJktQzBjhJkqSeMcBJkiT1jAFOkiSpZ6YU4JI8YdiFSJIkaWqm2gP3L0nOSfK69mb0kiRJ6siUAlxVPQN4Bc2tq85N8pkkzx5qZZIkSZrQlK+Bq6rLgLcAfwn8GvCBJD9I8uJhFSdJkqRfNtVr4J6Y5H3ApcAzgedX1WPb5+8bYn2SJEkaZ6q30vog8DHgiKpaM9ZYVdckectQKpMkSdKEphrgngusqaq1AEk2Ajatqp9V1aeGVp0kSZJ+yVSvgfsKMH9gebO2TZIkSSM21QC3aVX9dGyhfb7ZcEqSJEnSukw1wN2eZO+xhSRPAtasY3tJkiQNyVSvgftT4HNJrgECPBx42bCKkiRJ0uSmFOCq6rtJdgOWtE0rququ4ZUlSZKkyUy1Bw7gycDidp+9k1BVxw2lKkmSJE1qSgEuyaeARwEXAGvb5gIMcJIkSSM21R64pcDuVVXDLEaSJEn3b6qjUC+mGbggSZKkjk21B25b4PtJzgHuGGusqhcMpSpJkiRNaqoB7m3DLEKSJElTN9VpRM5O8ghg16r6SpLNgHnDLU2SJEkTmdI1cEleC5wMfKRtWgScOqSaJEmStA5THcRwKLAvcCtAVV0GPGxYRUmSJGlyUw1wd1TVnWMLSTammQdOkiRJIzbVAHd2kiOA+UmeDXwO+MLwypIkSdJkphrg3gysAi4CDgFOB94yrKIkSZI0uamOQr0H+Gj7kCRJUoemei/UK5jgmreqeuSMVyRJkqR1eiD3Qh2zKfDbwDYzX44kSZLuz5SugauqGwceK6vqn4DnDrc0SZIkTWSqp1D3HljciKZHbqq9d5IkSZpBUw1h7xl4fjfwY+ClM16NJEmS7tdUR6H+xrALkSRJ0tRM9RTqG9e1vqreOzPlSJIk6f48kFGoTwZOa5efD5wDXDaMoiRJkjS5qQa4HYG9q+o2gCRvA75UVa8cVmGSJEma2FRvpbUdcOfA8p1tmyRJkkZsqj1wxwHnJPn3dnkZcOxQKpIkSdI6TXUU6ruT/AfwjLbp1VV1/vDKkiRJ0mSmegoVYDPg1qp6P3B1kl2GVJMkSZLWYUoBLsmRwF8Ch7dNmwCfHlZRkiRJmtxUe+BeBLwAuB2gqq4BthhWUZIkSZrcVAPcnVVVQAEkecjwSpIkSdK6TDXAnZTkI8CCJK8FvgJ8dHhlSZIkaTL3Owo1SYDPArsBtwJLgL+uqjOHXJskSZImcL8BrqoqyelV9QTA0CZJktSxqZ5CPS/Jk4daiSRJkqZkqndieCrwyiQ/phmJGprOuScOqzBJkjZUp56/kqPOWME1q9eww4L5HHbAEpbttajrsjSHrDPAJdm5qn4CHDCieiRJ2qCdev5KDj/lItbctRaAlavXcPgpFwEY4uaADSW8398p1FMBqupK4L1VdeXgYzoHTjIvyflJvtgu75LkO0kuT/LZJA9q2x/cLl/erl888BqHt+0rkhgyJUlDd9QZK+4Nb2PW3LWWo85Y0VFFGpWx8L5y9RqKX4T3U89fOfJa7i/AZeD5I2f42G8ALh1Y/nvgfVX1aOBm4DVt+2uAm9v297XbkWR34OXA44ADgX9JMm+Ga5Qk6T6uWb3mAbVr9tiQwvv9Bbia5Pm0JNkReC7wsXY5wDOBk9tNjgWWtc9f2C7Trt+v3f6FwIlVdUdVXQFcDjxlpmqUJGkiOyyY/4DaNXtsSOH9/gLcHkluTXIb8MT2+a1Jbkty6zSO+0/Am4B72uWHAqur6u52+Wpg7ITyIuAqgHb9Le3297ZPsM99JDk4yfIky1etWjWNsiVJc91hByxh/ib3PeEzf5N5HHbAko4q0qhsSOF9nQGuquZV1ZZVtUVVbdw+H1vecn0OmOR5wPVVde56VbwequroqlpaVUsXLlw4qsNKkmahZXst4m9f/AQeNK/5FbpowXz+9sVPcADDHLAhhfepTiMyk/YFXpDkN4FNgS2B99PcpmvjtpdtR2DsisCVwE7A1Uk2BrYCbhxoHzO4jyRJQ7Nsr0WccM5PAPjsIU/ruBqNylhIf9PJF3Ln2ntYtAGPQp1xVXV4Ve1YVYtpBiF8tapeAXwNeEm72UHA59vnp7XLtOu/WlXVtr+8HaW6C7ArcM6I3oYkSZqDlu21iL12XsBTd9mGb735mZ31vHbRAzeZvwROTPIu4HzgmLb9GOBTSS4HbqIJfVTVJUlOAr4P3A0cWlVrf/llJUmSZpdOA1xVfR34evv8R0wwirSqfg789iT7vxt49/AqlCRJ2vCM/BSqJEmSpscAJ0mS1DMGOEmSpJ4xwEmSJPWMAU6SJKlnDHCSJEk9Y4CTJEnqGQOcJElSzxjgJEmSesYAJ0mS1DMGOEmSpJ4xwEmSJPWMAU6SJKlnDHCSJEk9Y4CTJEnqGQOcJElSzxjgJEmSesYAJ0mS1DMGOEmSpJ4xwEmSJPWMAU6SJKlnDHCSJEk9Y4CTJEnqGQOcJElSzxjgJEmSesYAJ0mS1DMGOEmSpJ4xwEmSJPWMAU6SJKlnDHCSJEk9Y4CTJEnqGQOcJElSzxjgJEmSesYAJ0mS1DMGOEmSpJ4xwEmSJPWMAU6SJKlnDHCSJEk9Y4CTJEnqGQOcJElSzxjgJEmSesYAJ0mS1DMGOEmSpJ4xwEmSJPWMAU6SJKlnDHCSJEk9Y4CTJEnqGQOcJElSzxjgJEmSesYAJ0mS1DMGOEmSpJ4xwEmSJPXMyANckp2SfC3J95NckuQNbfs2Sc5Mcln7deu2PUk+kOTyJBcm2XvgtQ5qt78syUGjfi+SJEld6KIH7m7gz6tqd2Af4NAkuwNvBs6qql2Bs9plgOcAu7aPg4EPQxP4gCOBpwJPAY4cC32SJEmz2cgDXFVdW1Xntc9vAy4FFgEvBI5tNzsWWNY+fyFwXDW+DSxIsj1wAHBmVd1UVTcDZwIHju6dSJIkdaPTa+CSLAb2Ar4DbFdV17arrgO2a58vAq4a2O3qtm2y9omOc3CS5UmWr1q1aubegCRJUgc6C3BJNgf+DfjTqrp1cF1VFVAzdayqOrqqllbV0oULF87Uy0qSJHWikwCXZBOa8HZ8VZ3SNv9fe2qU9uv1bftKYKeB3Xds2yZrlyRJmtW6GIUa4Bjg0qp678Cq04CxkaQHAZ8faH9VOxp1H+CW9lTrGcD+SbZuBy/s37ZJkiTNaht3cMx9gd8DLkpyQdt2BPB3wElJXgNcCby0XXc68JvA5cDPgFcDVNVNSd4JfLfd7h1VddNI3oEkSVKHRh7gquqbQCZZvd8E2xdw6CSv9XHg4zNXnSRJ0obPOzFIkiT1jAFOkiSpZwxwkiRJPWOAkyRJ6hkDnCRJUs8Y4CRJknrGACdJktQzBjhJkqSeMcBJkiT1jAFOkiSpZwxwkiRJPWOAkyRJ6hkDnCRJUs8Y4CRJknrGACdJktQzBjhJkqSeMcBJkiT1jAFOkiSpZwxwkiRJPWOAkyRJ6hkDnCRJUs8Y4CRJknrGACdJktQzBjhJkqSeMcBJkiT1jAFOkiSpZwxwkiRJPWOAkyRJ6hkDnCRJUs8Y4CRJknrGACdJktQzBjhJkqSeMcBJkiT1jAFOkiSpZwxwkiRJPWOAkyRJ6hkDnCRJUs8Y4CRJknrGACdJktQzBjhJkqSeMcBJkiT1jAFOkiSpZwxwkiRJPWOAkyRJ6hkDnCRJUs8Y4CRJknrGACdJktQzBjhJkqSeMcBJkiT1jAFOkiSpZwxwkiRJPWOAkyRJ6pneB7gkByZZkeTyJG/uuh5JkqRh63WASzIP+GfgOcDuwO8k2b3bqiRJkoZr464LmKanAJdX1Y8AkpwIvBD4flcFHfj1z/DwVVdx5Te37KoEdeT3r70VwM9+DvKzn5v83Oeu37/2Vq5buBMc8rTOauh7gFsEXDWwfDXw1PEbJTkYOBhg5513HmpBz3nC9txx6S1DPYY2TLtv73/ic5Wf/dzk5z537b79luz12O07raHvAW5Kqupo4GiApUuX1jCP9fAjjhjmy0uSJPX7GjhgJbDTwPKObZskSdKs1fcA911g1yS7JHkQ8HLgtI5rkiRJGqpen0KtqruT/DFwBjAP+HhVXdJxWZIkSUPV6wAHUFWnA6d3XYckSdKo9P0UqiRJ0pxjgJMkSeoZA5wkSVLPGOAkSZJ6xgAnSZLUMwY4SZKknjHASZIk9YwBTpIkqWdSNdR7u29wkqwCrhzyYbYFbhjyMbRh8rOfu/zs5yY/97lrVJ/9I6pq4fjGORfgRiHJ8qpa2nUdGj0/+7nLz35u8nOfu7r+7D2FKkmS1DMGOEmSpJ4xwA3H0V0XoM742c9dfvZzk5/73NXpZ+81cJIkST1jD5wkSVLPGOAkSZJ6xgAnSZLUMwY4aT0l2SjJS7uuQ5I09xjgZkiS5yfx+zmHVNU9wJu6rkPdSPKeJI/rug5Jc5OBY+a8DLgsyT8k2a3rYjQyX0nyF0l2SrLN2KProjQSlwJHJ/lOkj9KslXXBWk0kjwmyVlJLm6Xn5jkLV3XpeFLsm+SM5P8MMmPklyR5Eed1OI0IjMnyZbA7wCvBgr4BHBCVd3WaWEamiRXTNBcVfXIkRejTiRZQvMz/zvAt4CPVtXXuq1Kw5TkbOAw4CNVtVfbdnFVPb7byjRsSX4A/BlwLrB2rL2qbhx1LfbAzaCquhU4GTgR2B54EXBektd3WpiGpqp2meBheJsjkswDdmsfNwDfA96Y5MROC9OwbVZV54xru7uTSjRqt1TVf1TV9VV149iji0I27uKgs1GSF9D8Ff5o4DjgKVV1fZLNgO8DH+yyPg1H+/m+Edi5qg5OsiuwpKq+2HFpGrIk7wOeB3wV+JuBX+h/n2RFd5VpBG5I8iiaMy0keQlwbbclaUS+luQo4BTgjrHGqjpv1IV4CnWGJDkWOKaqvjHBuv2q6qwOytKQJfksTVf6q6rq8W2g+++q2rPbyjRsSV4NnFRVt0+wbququqWDsjQCSR5JcxulpwM3A1cAr6iqKzstTEOXZKLLI6qqnjnyWgxw0vpLsryqliY5f+BamO9V1R5d16bhSnJWVe13f22afZI8qarOTfIQYKOqui3J8+x51yh5DdwMSfLiJJcluSXJrUluS3Jr13Vp6O5MMp9fnEp5FAPd6pp9kmzajjTeNsnWA6OPFwOLOi5Po/HRJI+vqtvb8PZy4K1dF6XhS7JVkvcmWd4+3tPVCHR74GZIksuB51fVpV3XotFJ8mzgLcDuwJeBfYHfr6qvd1mXhifJG4A/BXYArhlYdSvNCNQPdVGXRqc9hXoy8LvAM4BXAc/ztPnsl+TfgIuBY9um3wP2qKoXj7wWA9zMSPKtqtq36zo0ekkeCuwDBPh2Vd3QcUkagSSvryoHJ81RSR4DnAr8BHhRVa3ptiKNQpILxl/jPFHbKDgKdZqSjKXu5e0F7ady35Epp3RRl0YjyYuAr1bVl9rlBUmWVdWp3VamYUnyzKr6KrBy4Of/Xv7Mz15JLqK9XKK1DTAP+E4SquqJ3VSmEVqT5Feq6pvQTOwLdBLe7YGbpiSfWMfqqqo/GFkxGrlJ/hq7d0CDZp8kb6+qIyf52fdnfhZL8oh1rXcU6uyXZE+a06db0Zx1uYnmspnvjbwWA9zMSLJvVX3r/to0uyS5cPxf3UkuqqondFWTpOFLsgfN9W8A/9XFL3B1p73z0tgE/p1wFOrMmehaGK+Pmf2WtyOSHtU+3kszL5xmuSRvSLJlGh9Lcl6S/buuS8PXDmQ5HnhY+/i0d9yZ3ZK8sv36xiRvBP4Q+MOB5ZHzGrhpSvI0mskcF477ELekuTZCs9vraaYP+Gy7fCZwaHflaIT+oKren+QA4KE0o9E+RTMaWbPba4Cnjk3inOTvgf/BP9pns4e0X7fotIoBBrjpexCwOc33cvCDvRV4SScVaWTa/8Df3HUd6kTar78JHFdVlyTJunbQrBEGbmTePvezn8Wq6iPt17d3XcsYA9w0VdXZwNlJPukFrHNPO5XAXwCLGfh56uK2Khq5c5N8GdgFODzJFsA9Hdek0fgEzcjTf2+XlwHHdFeORiXJPwDvohl5+p/AE4E/q6pPj7wWBzFMT5IvcN9h5fdRVS8YYTkasSTfA/6V5rq3e/8iryqvg5vlkmwE7An8qKpWt/MBLqqqC7utTMPUfu77AD8HfqVt/q+qOr+7qjQqYzMPtFNIPQ94I/CNLm6faA/c9P1j1wWoU3dX1Ye7LkKdKJo7cDwPeAfNNTKbdlqRhq6q7knyz+1UQed1XY9Gbiw3PRf4XFXd0tWVE/bASdOQ5G3A9cC/c98JnG/qqiaNRpIP05wyfWZVPTbJ1sCXq+rJHZemIUvyjzSDFk4pf4nOKUn+juaU+RrgKcAC4ItV9dSR1+K/vZmRZFfgb2n+Ir/3r/CqemRnRWnoklwxQXP5uc9+Sc6rqr0HJ25O8r0uTqVotJLcRtPjejfNqdTQ/Nxv2WlhGokk2wC3VNXaJJsBW1bVdaOuw1OoM+cTwJHA+4DfAF6N8+zNelW1S9c1qDN3JZlHew1skoU4iGFOqKoNZioJdWI3YHGSwQx13KiLsAduhiQ5t6qeNDgL/1hb17VpuJI8nl/ueR35D7NGK8krgJcBTwI+STNt0Fuq6nNd1qXhS3JWVe13f22afZJ8CngUcAG/GLhWVfUno67FHriZc0c7OumyJH8MrKSZH06zWJIjgV+nCXCnA88BvkkHf41ptKrq+CTnAmO/tJdV1aVd1qThSrIpsBmwbXvN49jV61sCizorTKO0FNh9Q7j20VN8M+cNND/Yf0LzF/krgYM6rUij8BKaX+DXVdWrgT1obnKsuWEzmjuubATM77gWDd8hNFMG7dZ+Xd4+Pg98qMO6NDoXAw/vugiwB27GVNV3AZLc0/4i19ywpp1W4O725sbXAzt1XZSGL8lfA78N/BtNT8wnknyuqt7VbWUaov8GTgJeUlUfTHIQ8FvAj4HPdFmYRmZb4PtJzuG+Mw+MfM5Xr4GbIe09UY8BNq+qnZPsARxSVa/ruDQNUZJ/AY4AXg78OfBT4AJD/OyXZAWwR1X9vF2eT/PZL+m2Mg1LkvOAZ1XVTUl+FTiR5n7IewKPrSpvnzjLJfm1idrbuzKNthYD3MxI8h2a02mnDUwpcHFVPb7byjQqSRbTDCd3Jv45IMnXgBdV1ep2eQHNvGDeRm2WGpwmJsk/A6uq6m3t8gVVtWeH5WlEkjwC2LWqvtJOIzKvqm4bdR1eAzeDquqqcU1rJ9xQvZfkgCT3+Wu7qn4MPCbJs7upSqOQ5INJPgDcAlyS5JNJPklzbczqLmvT0M0bmDpiP+CrA+u8JGkOSPJa4GTgI23TIuDULmrxH9zMuSrJ04FKsgnNoAZHpM1ef00zG/d4Xwe+AJw5ymI0Usvbr98HzqKZB+5u4GudVaRROQE4O8kNNDPx/xdAkkfTBHrNfofS3IHhOwBVdVmSh3VRiAFu5vwR8H6aNL4S+DLNB63Z6cFVtWp8Y1XdkOQhXRSkkfkM8G7gD4AraQYw7EwzmfcRHdalIauqdyc5C9ie5rZpY9cgbURzLZxmvzuq6s6x+5+2PbKdXItmgJshVXUD8Iqu69DIbJlk46q6e7Cx7X11OonZ7R9o5njcZey6l3YE8j8CRwF/2l1pGraq+vYEbT/sohZ14uwkRwDz28tlXkdz1mXkHMQwTUk+yDrSdxezM2v42hsabwf8cVXd3rZtTtMLe0NV/WWX9Wl4klwGPGb8RJ7tbbV+UFW7dlOZpGFrJ+x/DbA/Te/7GVX10S5qsQdu+pYPPH87zf1QNfu9BXgXcGWSK9u2nWmmknlrZ1VpFGqiWdjbG1v7F7E0u72+qt4P3BvakryhbRspe+BmUJLzx6YQ0dzQzv316Hbx8qpa02U9Gr4kp9JMF3LcuPZXAi/tYkJPSaOR5Lyq2ntcWye/+w1wM2iiD1bS7JJkEXAKzSjEc9vmpTTXPr6oqlZ2VZuk4UjyO8DvAs8AvjGwagvgnqrab8Idh8hTqJL0ALQB7alJngk8rm0+varO6rAsScP138C1NLfSes9A+21AJ5O32wM3TUlu4xeDGDYDfja2iuZamS07KUySJM2YdqDSV6rqN7quBbwTw7RV1RZVtWX72Hjg+RaGt9mvnRPqftskSf1WVWuBe5Js1XUt4ClUab0k2ZSmx3XbJFvT9LgCbEkzmbMkafb5KXBRkjOB28cau5gyzAAnrZ9DaCZs3YHmQvaxAHcr8KGOapIkDdcp7aNzXgMnTUOS11fVB7uuQ5I0Gu30UTtX1You6/AaOGl6rkuyBUCStyQ5JYlTyUjSLJTk+cAFwH+2y3smOa2LWgxw0vS8tapuS/IrwLNo7sTw4Y5rkiQNx9uApwCrAarqAuCRXRRigJOmZ2379bnA0VX1JeBBHdYjSRqeu6rqlnFt93RRiAFOmp6VST4CvAw4PcmD8edKkmarS5L8LjAvya5JPkgzye/IOYhBmoYkmwEHAhdV1WVJtgeeUFVf7rg0SdIMa//P/ytgf5rZB84A3llVPx95LQY4afqSPAzYdGy5qn7SYTmSpCFKsiXN3ZZu66oGT/VI05DkBUkuA64Azm6//ke3VUmShiHJk5NcRHP/04uSfC/Jk7qoxQAnTc87gX2AH1bVLjQjUb/dbUmSpCE5BnhdVS2uqsXAocAnuijEACdNz11VdSOwUZKNquprwNKui5IkDcXaqvqvsYWq+iZwdxeFeCstaXpWJ9kc+C/g+CTXM3B/PEnSrHJ2O/PACUDRzEDw9bEJ3KvqvFEV4iAGaRqSPARYQ9Ob/QpgK+D4tldOkjSLJPnaOlZXVT1zZLUY4KTpSfIIYNeq+ko7xHxelyOTJEnDkWReVa29/y2Hz2vgpGlI8lrgZOAjbdMi4NTOCpIkDdNlSY5K8tiuCzHASdNzKLAvcCtAVV0GPKzTiiRJw7IH8EPgmCTfTnJwOyfcyBngpOm5o6ruHFtIsjHNha2SpFmmqm6rqo9W1dOBvwSOBK5NcmySR4+yFgOcND1nJzkCmJ/k2cDngC90XJMkaQiSzGsncP934J+A9wCPpPl///SR1uIgBmn9JQnwh9z3vngfK3+wJGnWSfIj4GvAMVX13+PWfaCq/mRktfh7Rlo/SeYBl1TVbl3XIkkaviSbV9VPu64DnMhXWm9VtTbJiiQ7e/N6SZq9knyQ9vrm5sTLfY2y522MAU6anq2BS5Kcw8AdGKrqBd2VJEmaYcsHnr+dZvBCpzyFKk1Dkl+bqL2qzh51LZKk4UtyflXt1XUd9sBJ0zAY1JJsC9zoAAZJmtU2iP/jnUZEWg9J9kny9SSnJNkrycXAxcD/JTmw6/okSbObp1Cl9ZBkOXAEzc3rjwaeU1XfTrIbcMKG0L0uSZoZSW7jFz1vmwE/G1tFcxP7kd+NwQAnrYckF1TVnu3zS6vqsQPrNojrIyRJs5enUKX1c8/A8zXj1vlXkSRpqOyBk9ZDkrU004YEmM99u9M3rapNuqpNkjT7GeAkSZJ6xlOokiRJPWOAkyRJ6hkDnCRJUs8Y4CTNGUkenuTEJP+b5Nwkpyd5zDRf89eTfLF9/oIkb26fL0uy+8B270jyrOm9A0lqeCstSXNCkgD/DhxbVS9v2/YAtgN+OBPHqKrTgNPaxWXAF4Hvt+v+eiaOIUlgD5ykueM3gLuq6l/HGqrqe8A3kxyV5OIkFyV5Gdzbs/b1JCcn+UGS49sQSJID27bzgBePvV6S30/yoSRPB14AHJXkgiSPSvLJJC9pt9svyfnt8T6e5MFt+4+TvD3Jee263Ub23ZHUKwY4SXPF44FzJ2h/MbAnsAfwLJrQtX27bi/gT4HdgUcC+ybZFPgo8HzgScDDx79gVf03TU/cYVW1Z1X979i6dv9PAi+rqifQnAn5fwO731BVewMfBv5iPd+rpFnOACdprvsVmvvXrq2q/wPOBp7crjunqq6uqnuAC4DFwG7AFVV1WTUTaX76AR5vSbv/2GnbY4FfHVh/Svv13PZ4kvRLDHCS5opLaHrMHog7Bp6vZTTXDY8dc1THk9RDBjhJc8VXgQcnOXisIckTgdXAy5LMS7KQpjfsnHW8zg+AxUke1S7/ziTb3QZsMUH7inb/R7fLv0fT6ydJU2aAkzQntKc7XwQ8q51G5BLgb4HPABcC36MJeW+qquvW8To/Bw4GvtQOYrh+kk1PBA5rBys8atz+rwY+l+Qi4B7gXyd5DUmakPdClSRJ6hl74CRJknrGACdJktQzBjhJkqSeMcBJkiT1jAFOkiSpZwxwkiRJPWOAkyRJ6pn/D3lJ9+0gDT5ZAAAAAElFTkSuQmCC\n",
       "datasetInfos": [],
       "metadata": {},
       "removedWidgets": [],
       "type": "image"
      }
     },
     "output_type": "display_data"
    }
   ],
   "source": [
    "### Visualization of Top 5 Conditions for clinicaltrial_2023\n",
    "\n",
    "import matplotlib.pyplot as plt\n",
    "\n",
    "# Extract x and y values from top5_conditions_2023\n",
    "\n",
    "x = [c[0] for c in top5_conditions_2023]\n",
    "y = [c[1] for c in top5_conditions_2023]\n",
    "\n",
    "# Plotting the data\n",
    "\n",
    "plt.figure(figsize=(10, 6))\n",
    "plt.stem(x, y)\n",
    "plt.title('Top 5 Conditions in 2023')\n",
    "plt.xlabel('Condition')\n",
    "plt.ylabel('Frequency')\n",
    "plt.xticks(rotation=90)\n",
    "plt.show()"
   ]
  },
  {
   "cell_type": "code",
   "execution_count": 0,
   "metadata": {
    "application/vnd.databricks.v1+cell": {
     "cellMetadata": {
      "byteLimit": 2048000,
      "rowLimit": 10000
     },
     "inputWidgets": {},
     "nuid": "2c0bda2b-c6fc-4c0e-babd-bfccb77665d9",
     "showTitle": false,
     "title": ""
    }
   },
   "outputs": [
    {
     "output_type": "stream",
     "name": "stdout",
     "output_type": "stream",
     "text": [
      "condition: Carcinoma, Frequency: 13389\ncondition: Diabetes Mellitus, Frequency: 11080\ncondition: Neoplasms, Frequency: 9371\ncondition: Breast Neoplasms, Frequency: 8640\ncondition: Syndrome, Frequency: 8032\n"
     ]
    }
   ],
   "source": [
    "### Top 5 Conditions for clinicaltrial_2021\n",
    "\n",
    "# Filter out records with 'null' in the 7th position\n",
    "\n",
    "filtered_RDD21 = RDD_ct2021.filter(lambda x: x[7] != 'null'and x[7] != '')\n",
    "\n",
    "# Map each record to a tuple of (condition, 1) and then reduce by key to get the count of each condition\n",
    "\n",
    "condition_count_RDD21 = filtered_RDD21.flatMap(lambda x: x[7].split(',')) \\\n",
    "                                             .map(lambda x: (x.strip(), 1)) \\\n",
    "                                             .reduceByKey(lambda x, y: x + y)\n",
    "\n",
    "# Sort by count in descending order and take the top 5 conditions\n",
    "\n",
    "top5_conditions_2021 = condition_count_RDD21.sortBy(lambda x: x[1], ascending=False) \\\n",
    "                                               .take(5)\n",
    "\n",
    "# Print the top 5 conditions and their counts\n",
    "\n",
    "for condition, frequency in top5_conditions_2021:\n",
    "    print(f\"condition: {condition}, Frequency: {frequency}\")"
   ]
  },
  {
   "cell_type": "code",
   "execution_count": 0,
   "metadata": {
    "application/vnd.databricks.v1+cell": {
     "cellMetadata": {
      "byteLimit": 2048000,
      "rowLimit": 10000
     },
     "inputWidgets": {},
     "nuid": "3360eaad-84d8-4bb3-b6c5-95a134f74e32",
     "showTitle": false,
     "title": ""
    }
   },
   "outputs": [
    {
     "output_type": "stream",
     "name": "stdout",
     "output_type": "stream",
     "text": [
      "condition: Carcinoma, Frequency: 12245\ncondition: Diabetes Mellitus, Frequency: 10425\ncondition: Neoplasms, Frequency: 8534\ncondition: Breast Neoplasms, Frequency: 8009\ncondition: Syndrome, Frequency: 7419\n"
     ]
    }
   ],
   "source": [
    "### Top 5 Conditions for clinicaltrial_2020\n",
    "\n",
    "# Filter out records with 'null' in the 7th position\n",
    "\n",
    "filtered_RDD20 = RDD_ct2020.filter(lambda x: x[7] != 'null'and x[7] != '')\n",
    "\n",
    "# Map each record to a tuple of (condition, 1) and then reduce by key to get the count of each condition\n",
    "\n",
    "condition_count_RDD20 = filtered_RDD20.flatMap(lambda x: x[7].split(',')) \\\n",
    "                                             .map(lambda x: (x.strip(), 1)) \\\n",
    "                                             .reduceByKey(lambda x, y: x + y)\n",
    "\n",
    "# Sort by count in descending order and take the top 5 conditions\n",
    "\n",
    "top5_conditions_2020 = condition_count_RDD20.sortBy(lambda x: x[1], ascending=False) \\\n",
    "                                               .take(5)\n",
    "\n",
    "# Print the top 5 conditions and their counts\n",
    "\n",
    "for condition, frequency in top5_conditions_2020:\n",
    "    print(f\"condition: {condition}, Frequency: {frequency}\")"
   ]
  },
  {
   "cell_type": "markdown",
   "metadata": {
    "application/vnd.databricks.v1+cell": {
     "cellMetadata": {
      "byteLimit": 2048000,
      "rowLimit": 10000
     },
     "inputWidgets": {},
     "nuid": "b08efffb-bc5b-44df-bba9-db53e983a466",
     "showTitle": false,
     "title": ""
    }
   },
   "source": [
    "Q4: Ten Most Common Sponsors that are not Pharmaceutical Companies, along with the Number of Clinical Trials they have Sponsored"
   ]
  },
  {
   "cell_type": "code",
   "execution_count": 0,
   "metadata": {
    "application/vnd.databricks.v1+cell": {
     "cellMetadata": {
      "byteLimit": 2048000,
      "rowLimit": 10000
     },
     "inputWidgets": {},
     "nuid": "5c96b696-550c-43c1-a71b-d5d015d22ef5",
     "showTitle": false,
     "title": ""
    }
   },
   "outputs": [
    {
     "output_type": "stream",
     "name": "stdout",
     "output_type": "stream",
     "text": [
      "National Cancer Institute (NCI): 3410\nAssiut University: 3335\nCairo University: 3023\nAssistance Publique - Hôpitaux de Paris: 2951\nMayo Clinic: 2766\nM.D. Anderson Cancer Center: 2702\nNovartis Pharmaceuticals: 2393\nNational Institute of Allergy and Infectious Diseases (NIAID): 2340\nMassachusetts General Hospital: 2263\nNational Taiwan University Hospital: 2181\n"
     ]
    }
   ],
   "source": [
    "### Ten Most Common Sponsors that are not Pharmaceutical Companies for clinicaltrial_2023\n",
    "\n",
    "# Count the number of trials sponsored by each sponsor\n",
    "\n",
    "sponsor_count_RDD23 = RDD_ct2023.map(lambda row: (row[6], 1)) \\\n",
    "                                    .reduceByKey(lambda a, b: a + b)\n",
    "\n",
    "# Create a list of pharmaceutical companies from the Pharma RDD\n",
    "# Preprocess the company names by removing extra characters and converting to lowercase\n",
    "\n",
    "pharma_companies_list = RDD_pharma.map(lambda x: x.split(',')[1].strip().lower().replace('\"', '').replace(\"'\", \"\").replace(\"(\", \"\").replace(\")\", \"\").replace(\".\", \"\").replace(\",\", \"\").replace(\":\", \"\").replace(\"&\", \"\").replace(\"/\", \"\").strip()).distinct().collect()\n",
    "\n",
    "# Filter out Sponsors that are not Pharmaceutical Companies\n",
    "\n",
    "filtered_sponsor_count_RDD23 = sponsor_count_RDD23.filter(lambda x: x[0].lower().replace('\"', '').replace(\"'\", \"\").replace(\"(\", \"\").replace(\")\", \"\").replace(\".\", \"\").replace(\",\", \"\").replace(\":\", \"\").replace(\"&\", \"\").replace(\"/\", \"\").strip() not in pharma_companies_list)\n",
    "\n",
    "# Sort the filtered sponsors by count in descending order\n",
    "\n",
    "sorted_sponsor_count_RDD23 = filtered_sponsor_count_RDD23.sortBy(lambda x: x[1], ascending=False)\n",
    "\n",
    "# Take the top 10 sponsors\n",
    "\n",
    "top10_sponsors_2023 = sorted_sponsor_count_RDD23.take(10)\n",
    "\n",
    "# Print the top 10 sponsors and their counts\n",
    "\n",
    "for sponsor, count in top10_sponsors_2023:\n",
    "    print(f\"{sponsor}: {count}\")\n"
   ]
  },
  {
   "cell_type": "code",
   "execution_count": 0,
   "metadata": {
    "application/vnd.databricks.v1+cell": {
     "cellMetadata": {
      "byteLimit": 2048000,
      "rowLimit": 10000
     },
     "inputWidgets": {},
     "nuid": "230133a1-6bac-4327-a1d1-7f386812c800",
     "showTitle": false,
     "title": ""
    }
   },
   "outputs": [
    {
     "output_type": "stream",
     "name": "stdout",
     "output_type": "stream",
     "text": [
      "National Cancer Institute (NCI): 3218\nM.D. Anderson Cancer Center: 2414\nAssistance Publique - Hôpitaux de Paris: 2369\nMayo Clinic: 2300\nMerck Sharp & Dohme Corp.: 2243\nAssiut University: 2154\nNovartis Pharmaceuticals: 2088\nMassachusetts General Hospital: 1971\nCairo University: 1928\nHoffmann-La Roche: 1828\n"
     ]
    }
   ],
   "source": [
    "### Ten Most Common Sponsors that are not Pharmaceutical Companies for clinicaltrial_2021\n",
    "\n",
    "# Count the number of trials sponsored by each sponsor\n",
    "\n",
    "sponsor_count_RDD21 = RDD_ct2021.map(lambda row: (row[1], 1)) \\\n",
    "                                    .reduceByKey(lambda a, b: a + b)\n",
    "\n",
    "# Create a list of pharmaceutical companies from the Pharma RDD\n",
    "# Preprocess the company names by removing extra characters and converting to lowercase\n",
    "\n",
    "pharma_companies_list = RDD_pharma.map(lambda x: x.split(',')[1].strip().lower().replace('\"', '').replace(\"'\", \"\").replace(\"(\", \"\").replace(\")\", \"\").replace(\".\", \"\").replace(\",\", \"\").replace(\":\", \"\").replace(\"&\", \"\").replace(\"/\", \"\").strip()).distinct().collect()\n",
    "\n",
    "# Filter out Sponsors that are not Pharmaceutical Companies\n",
    "\n",
    "filtered_sponsor_count_RDD21 = sponsor_count_RDD21.filter(lambda x: x[0].lower().replace('\"', '').replace(\"'\", \"\").replace(\"(\", \"\").replace(\")\", \"\").replace(\".\", \"\").replace(\",\", \"\").replace(\":\", \"\").replace(\"&\", \"\").replace(\"/\", \"\").strip() not in pharma_companies_list)\n",
    "\n",
    "# Sort the filtered sponsors by count in descending order\n",
    "\n",
    "sorted_sponsor_count_RDD21 = filtered_sponsor_count_RDD21.sortBy(lambda x: x[1], ascending=False)\n",
    "\n",
    "# Take the top 10 sponsors\n",
    "\n",
    "top10_sponsors_2021 = sorted_sponsor_count_RDD21.take(10)\n",
    "\n",
    "# Print the top 10 sponsors and their counts\n",
    "\n",
    "for sponsor, count in top10_sponsors_2021:\n",
    "    print(f\"{sponsor}: {count}\")\n"
   ]
  },
  {
   "cell_type": "code",
   "execution_count": 0,
   "metadata": {
    "application/vnd.databricks.v1+cell": {
     "cellMetadata": {
      "byteLimit": 2048000,
      "rowLimit": 10000
     },
     "inputWidgets": {},
     "nuid": "e0351e07-9aef-4328-ae13-2523d4ff1977",
     "showTitle": false,
     "title": ""
    }
   },
   "outputs": [
    {
     "output_type": "stream",
     "name": "stdout",
     "output_type": "stream",
     "text": [
      "National Cancer Institute (NCI): 3100\nM.D. Anderson Cancer Center: 2238\nMerck Sharp & Dohme Corp.: 2184\nMayo Clinic: 2097\nAssistance Publique - Hôpitaux de Paris: 2043\nNovartis Pharmaceuticals: 1962\nMassachusetts General Hospital: 1823\nAssiut University: 1806\nHoffmann-La Roche: 1761\nNational Taiwan University Hospital: 1720\n"
     ]
    }
   ],
   "source": [
    "### Ten Most Common Sponsors that are not Pharmaceutical Companies for clinicaltrial_2020\n",
    "\n",
    "# Count the number of trials sponsored by each sponsor\n",
    "\n",
    "sponsor_count_RDD20 = RDD_ct2020.map(lambda row: (row[1], 1)) \\\n",
    "                                    .reduceByKey(lambda a, b: a + b)\n",
    "\n",
    "# Create a list of pharmaceutical companies from the Pharma RDD\n",
    "# Preprocess the company names by removing extra characters and converting to lowercase\n",
    "\n",
    "pharma_companies_list = RDD_pharma.map(lambda x: x.split(',')[1].strip().lower().replace('\"', '').replace(\"'\", \"\").replace(\"(\", \"\").replace(\")\", \"\").replace(\".\", \"\").replace(\",\", \"\").replace(\":\", \"\").replace(\"&\", \"\").replace(\"/\", \"\").strip()).distinct().collect()\n",
    "\n",
    "# Filter out Sponsors that are not Pharmaceutical Companies\n",
    "\n",
    "filtered_sponsor_count_RDD20 = sponsor_count_RDD20.filter(lambda x: x[0].lower().replace('\"', '').replace(\"'\", \"\").replace(\"(\", \"\").replace(\")\", \"\").replace(\".\", \"\").replace(\",\", \"\").replace(\":\", \"\").replace(\"&\", \"\").replace(\"/\", \"\").strip() not in pharma_companies_list)\n",
    "\n",
    "# Sort the filtered sponsors by count in descending order\n",
    "\n",
    "sorted_sponsor_count_RDD20 = filtered_sponsor_count_RDD20.sortBy(lambda x: x[1], ascending=False)\n",
    "\n",
    "# Take the top 10 sponsors\n",
    "\n",
    "top10_sponsors_2020 = sorted_sponsor_count_RDD20.take(10)\n",
    "\n",
    "# Print the top 10 sponsors and their counts\n",
    "\n",
    "for sponsor, count in top10_sponsors_2020:\n",
    "    print(f\"{sponsor}: {count}\")"
   ]
  },
  {
   "cell_type": "markdown",
   "metadata": {
    "application/vnd.databricks.v1+cell": {
     "cellMetadata": {
      "byteLimit": 2048000,
      "rowLimit": 10000
     },
     "inputWidgets": {},
     "nuid": "87fe6cb6-e12b-4787-9522-f97ae50e124b",
     "showTitle": false,
     "title": ""
    }
   },
   "source": [
    "Q5: Plot Number of Completed Studies for Each Month and Carete a Table of all Values"
   ]
  },
  {
   "cell_type": "code",
   "execution_count": 0,
   "metadata": {
    "application/vnd.databricks.v1+cell": {
     "cellMetadata": {
      "byteLimit": 2048000,
      "rowLimit": 10000
     },
     "inputWidgets": {},
     "nuid": "3a28c5ee-a878-4fbc-abb7-0211c2a666d0",
     "showTitle": false,
     "title": ""
    }
   },
   "outputs": [
    {
     "output_type": "stream",
     "name": "stdout",
     "output_type": "stream",
     "text": [
      "| Month  | Count |\n+--------+-------+\n| Jan | 1494 |\n| Feb | 1272 |\n| Mar | 1552 |\n| Apr | 1324 |\n| May | 1415 |\n| Jun | 1619 |\n| Jul | 1360 |\n| Aug | 1230 |\n| Sep | 1152 |\n| Oct | 1058 |\n| Nov | 909 |\n| Dec | 1082 |\n"
     ]
    },
    {
     "output_type": "display_data",
     "data": {
      "image/png": "[encoded data removed]"
     },
     "metadata": {
      "application/vnd.databricks.v1+output": {
       "addedWidgets": {},
       "arguments": {},
       "data": "data:image/png;base64,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\n",
       "datasetInfos": [],
       "metadata": {},
       "removedWidgets": [],
       "type": "image"
      }
     },
     "output_type": "display_data"
    }
   ],
   "source": [
    "### Table Creation for Number of Completed Studies for Each Month in 2023 for clinicaltrial_2023\n",
    "\n",
    "# Filter RDD to include only completed studies with a completion year in 2023\n",
    "\n",
    "completed_studies_RDD23 = RDD_ct2023.filter(lambda row: len(row) > 13 and row[3] == \"COMPLETED\" and row[13].startswith(\"2023\"))\n",
    "\n",
    "# Map each record to extract the completion month from the completion date column\n",
    "\n",
    "month_RDD23 = completed_studies_RDD23.map(lambda row: (row[13].split(\"-\")[1].replace('\"', ''), 1) if len(row) > 13 else ('', 0))\n",
    "\n",
    "# Count the number of completed studies for each month\n",
    "\n",
    "monthly_count_RDD23 = month_RDD23.reduceByKey(lambda a, b: a + b)\n",
    "\n",
    "# Convert month abbreviations to numeric values for sorting\n",
    "\n",
    "month_number_RDD23 = monthly_count_RDD23.map(lambda x: (int(x[0]), x[1]) if x[0].isdigit() else ('', 0))\n",
    "\n",
    "# Sort by month numbers\n",
    "\n",
    "sorted_monthly_count_RDD23 = month_number_RDD23.sortByKey()\n",
    "\n",
    "# Create a table with columns for month and count\n",
    "\n",
    "print(\"| Month  | Count |\")\n",
    "print(\"+--------+-------+\")\n",
    "for month_num, count in sorted_monthly_count_RDD23.collect():\n",
    "    if month_num >= 1 and month_num <= 12:\n",
    "        month_name = [\"Jan\", \"Feb\", \"Mar\", \"Apr\", \"May\", \"Jun\", \"Jul\", \"Aug\", \"Sep\", \"Oct\", \"Nov\", \"Dec\"][month_num - 1]\n",
    "        print(f\"| {month_name} | {count} |\")\n",
    "    else:\n",
    "        print(f\"Invalid month number: {month_num}, count: {count}\")\n",
    "\n",
    "\n",
    "### Plot Number of Completed Studies for Each Month in 2023 for clinicaltrial_2023\n",
    "\n",
    "import pandas as pd\n",
    "import matplotlib.pyplot as plt\n",
    "\n",
    "# Convert RDD to DataFrame\n",
    "\n",
    "df_2023 = pd.DataFrame(sorted_monthly_count_RDD23.collect(), columns=['Month', 'Count'])\n",
    "\n",
    "# Define month names\n",
    "\n",
    "month_names = [\"Jan\", \"Feb\", \"Mar\", \"Apr\", \"May\", \"Jun\", \"Jul\", \"Aug\", \"Sep\", \"Oct\", \"Nov\", \"Dec\"]\n",
    "\n",
    "# Map month numbers to month names\n",
    "\n",
    "df_2023['Month'] = df_2023['Month'].map(lambda x: month_names[x-1])\n",
    "\n",
    "# Plotting the data\n",
    "\n",
    "plt.figure(figsize=(10, 6))\n",
    "plt.bar(df_2023['Month'], df_2023['Count'], color='skyblue')\n",
    "plt.title('Number of Completed Studies in 2023 by Month')\n",
    "plt.xlabel('Month')\n",
    "plt.ylabel('Number of Completed Studies')\n",
    "plt.xticks(rotation=45)\n",
    "plt.show()\n"
   ]
  },
  {
   "cell_type": "code",
   "execution_count": 0,
   "metadata": {
    "application/vnd.databricks.v1+cell": {
     "cellMetadata": {
      "byteLimit": 2048000,
      "rowLimit": 10000
     },
     "inputWidgets": {},
     "nuid": "851d1877-d687-459f-86ae-89bce1e0f31e",
     "showTitle": false,
     "title": ""
    }
   },
   "outputs": [
    {
     "output_type": "stream",
     "name": "stdout",
     "output_type": "stream",
     "text": [
      "| Month  | Count |\n+--------+-------+\n| Jan | 1131 |\n| Feb | 934 |\n| Mar | 1227 |\n| Apr | 967 |\n| May | 984 |\n| Jun | 1094 |\n| Jul | 819 |\n| Aug | 700 |\n| Sep | 528 |\n| Oct | 187 |\n"
     ]
    },
    {
     "output_type": "display_data",
     "data": {
      "image/png": "[encoded data removed]"
     },
     "metadata": {
      "application/vnd.databricks.v1+output": {
       "addedWidgets": {},
       "arguments": {},
       "data": "data:image/png;base64,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\n",
       "datasetInfos": [],
       "metadata": {},
       "removedWidgets": [],
       "type": "image"
      }
     },
     "output_type": "display_data"
    }
   ],
   "source": [
    "### Table Creation for Number of Completed Studies for Each Month in 2021 for clinicaltrial_2021\n",
    "\n",
    "# Filter RDD to include only completed studies with a completion year in 2021\n",
    "\n",
    "completed_studies_RDD21 = RDD_ct2021.filter(lambda row: row[2] == \"Completed\" and \"2021\" in row[4])\n",
    "\n",
    "# Map each record to extract the completion month from the completion date column\n",
    "\n",
    "month_RDD21 = completed_studies_RDD21.map(lambda row: (row[4].split()[0], 1))\n",
    "\n",
    "# Convert month abbreviations to numeric values for sorting\n",
    "\n",
    "month_number_RDD21 = month_RDD21.map(lambda x: ([\"Jan\", \"Feb\", \"Mar\", \"Apr\", \"May\", \"Jun\", \"Jul\", \"Aug\", \"Sep\", \"Oct\", \"Nov\", \"Dec\"].index(x[0]), x[1]))\n",
    "\n",
    "# Count the number of completed studies for each month\n",
    "\n",
    "monthly_count_RDD21 = month_number_RDD21.reduceByKey(lambda a, b: a + b)\n",
    "\n",
    "# Sort by month names\n",
    "\n",
    "sorted_monthly_count_RDD21 = monthly_count_RDD21.sortByKey()\n",
    "\n",
    "# Create a table with columns for month and count\n",
    "\n",
    "print(\"| Month  | Count |\")\n",
    "print(\"+--------+-------+\")\n",
    "for month_num, count in sorted_monthly_count_RDD21.collect():\n",
    "    month_name = [\"Jan\", \"Feb\", \"Mar\", \"Apr\", \"May\", \"Jun\", \"Jul\", \"Aug\", \"Sep\", \"Oct\", \"Nov\", \"Dec\"][month_num]\n",
    "    print(f\"| {month_name} | {count} |\")\n",
    "\n",
    "\n",
    "### Plot Number of Completed Studies for Each Month in 2021 for clinicaltrial_2021\n",
    "\n",
    "import pandas as pd\n",
    "import matplotlib.pyplot as plt\n",
    "\n",
    "# Convert RDD to DataFrame\n",
    "\n",
    "df_2021 = pd.DataFrame(sorted_monthly_count_RDD21.collect(), columns=['Month', 'Count'])\n",
    "\n",
    "# Define month names\n",
    "\n",
    "month_names = [\"Jan\", \"Feb\", \"Mar\", \"Apr\", \"May\", \"Jun\", \"Jul\", \"Aug\", \"Sep\", \"Oct\", \"Nov\", \"Dec\"]\n",
    "\n",
    "# Map month numbers to month names\n",
    "\n",
    "df_2021['Month'] = df_2021['Month'].map(lambda x: month_names[x])\n",
    "\n",
    "# Plotting the data\n",
    "\n",
    "plt.figure(figsize=(10, 6))\n",
    "plt.bar(df_2021['Month'], df_2021['Count'], color='skyblue')\n",
    "plt.title('Number of Completed Studies in 2021 by Month')\n",
    "plt.xlabel('Month')\n",
    "plt.ylabel('Number of Completed Studies')\n",
    "plt.xticks(rotation=45)\n",
    "plt.show()\n"
   ]
  },
  {
   "cell_type": "code",
   "execution_count": 0,
   "metadata": {
    "application/vnd.databricks.v1+cell": {
     "cellMetadata": {
      "byteLimit": 2048000,
      "rowLimit": 10000
     },
     "inputWidgets": {},
     "nuid": "992f881b-6293-4d30-afcd-287fefaa3c21",
     "showTitle": false,
     "title": ""
    }
   },
   "outputs": [
    {
     "output_type": "stream",
     "name": "stdout",
     "output_type": "stream",
     "text": [
      "| Month  | Count |\n+--------+-------+\n| Jan | 1544 |\n| Feb | 1286 |\n| Mar | 1740 |\n| Apr | 1080 |\n| May | 1176 |\n| Jun | 1424 |\n| Jul | 1237 |\n| Aug | 1126 |\n| Sep | 1167 |\n| Oct | 1176 |\n| Nov | 1078 |\n| Dec | 2084 |\n"
     ]
    },
    {
     "output_type": "display_data",
     "data": {
      "image/png": "[encoded data removed]"
     },
     "metadata": {
      "application/vnd.databricks.v1+output": {
       "addedWidgets": {},
       "arguments": {},
       "data": "data:image/png;base64,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\n",
       "datasetInfos": [],
       "metadata": {},
       "removedWidgets": [],
       "type": "image"
      }
     },
     "output_type": "display_data"
    }
   ],
   "source": [
    "### Table Creation for Number of Completed Studies for Each Month in 2020 for clinicaltrial_2020\n",
    "\n",
    "# Filter RDD to include only completed studies with a completion year in 2020\n",
    "\n",
    "completed_studies_RDD20 = RDD_ct2020.filter(lambda row: row[2] == \"Completed\" and \"2020\" in row[4])\n",
    "\n",
    "# Map each record to extract the completion month from the completion date column\n",
    "\n",
    "month_RDD20 = completed_studies_RDD20.map(lambda row: (row[4].split()[0], 1))\n",
    "\n",
    "# Convert month abbreviations to numeric values for sorting\n",
    "\n",
    "month_number_RDD20 = month_RDD20.map(lambda x: ([\"Jan\", \"Feb\", \"Mar\", \"Apr\", \"May\", \"Jun\", \"Jul\", \"Aug\", \"Sep\", \"Oct\", \"Nov\", \"Dec\"].index(x[0]), x[1]))\n",
    "\n",
    "# Count the number of completed studies for each month\n",
    "\n",
    "monthly_count_RDD20 = month_number_RDD20.reduceByKey(lambda a, b: a + b)\n",
    "\n",
    "# Sort by month names\n",
    "\n",
    "sorted_monthly_count_RDD20 = monthly_count_RDD20.sortByKey()\n",
    "\n",
    "# Create a table with columns for month and count\n",
    "\n",
    "print(\"| Month  | Count |\")\n",
    "print(\"+--------+-------+\")\n",
    "for month_num, count in sorted_monthly_count_RDD20.collect():\n",
    "    month_name = [\"Jan\", \"Feb\", \"Mar\", \"Apr\", \"May\", \"Jun\", \"Jul\", \"Aug\", \"Sep\", \"Oct\", \"Nov\", \"Dec\"][month_num]\n",
    "    print(f\"| {month_name} | {count} |\")\n",
    "\n",
    "\n",
    "### Plot Number of Completed Studies for Each Month in 2020 for clinicaltrial_2020\n",
    "\n",
    "import pandas as pd\n",
    "import matplotlib.pyplot as plt\n",
    "\n",
    "# Convert RDD to DataFrame\n",
    "\n",
    "df_2020 = pd.DataFrame(sorted_monthly_count_RDD20.collect(), columns=['Month', 'Count'])\n",
    "\n",
    "# Define month names\n",
    "\n",
    "month_names = [\"Jan\", \"Feb\", \"Mar\", \"Apr\", \"May\", \"Jun\", \"Jul\", \"Aug\", \"Sep\", \"Oct\", \"Nov\", \"Dec\"]\n",
    "\n",
    "# Map month numbers to month names\n",
    "\n",
    "df_2020['Month'] = df_2020['Month'].map(lambda x: month_names[x])\n",
    "\n",
    "# Plotting the data\n",
    "\n",
    "plt.figure(figsize=(10, 6))\n",
    "plt.bar(df_2020['Month'], df_2020['Count'], color='skyblue')\n",
    "plt.title('Number of Completed Studies in 2020 by Month')\n",
    "plt.xlabel('Month')\n",
    "plt.ylabel('Number of Completed Studies')\n",
    "plt.xticks(rotation=45)\n",
    "plt.show()\n"
   ]
  },
  {
   "cell_type": "markdown",
   "metadata": {
    "application/vnd.databricks.v1+cell": {
     "cellMetadata": {
      "byteLimit": 2048000,
      "rowLimit": 10000
     },
     "inputWidgets": {},
     "nuid": "58173ae9-1b85-488c-bf57-4292b64c826b",
     "showTitle": false,
     "title": ""
    }
   },
   "source": [
    "Additional Analysis 1: Total Penalty Amount at each Level of Government"
   ]
  },
  {
   "cell_type": "code",
   "execution_count": 0,
   "metadata": {
    "application/vnd.databricks.v1+cell": {
     "cellMetadata": {
      "byteLimit": 2048000,
      "rowLimit": 10000
     },
     "inputWidgets": {},
     "nuid": "0df92961-216c-4eca-8a9a-c17bb078e323",
     "showTitle": false,
     "title": ""
    }
   },
   "outputs": [
    {
     "output_type": "stream",
     "name": "stdout",
     "output_type": "stream",
     "text": [
      "+-------------------+----------------------------+\n|Level_of_Government|Total_Penalty_Amount_Million|\n+-------------------+----------------------------+\n|federal            |49641.36                    |\n|state              |29887.93                    |\n|local              |0.53                        |\n+-------------------+----------------------------+\n\n"
     ]
    }
   ],
   "source": [
    "### Total Penalty Amount at each Level of Government\n",
    "\n",
    "from pyspark.sql.functions import*\n",
    "\n",
    "# Map to (Level_of_Government, Penalty_Amount) pairs and reduce by key to find Total Penalty Amount\n",
    "\n",
    "government_penalty_rdd = RDD_pharma.map(lambda line: (line.split('\",\"')[11].replace('\"', ''), float(line.split('\",\"')[2].replace('$', '').replace('\"', '').replace(',', ''))))\n",
    "total_penalty_by_government_rdd = government_penalty_rdd.reduceByKey(lambda x, y: x + y)\n",
    "\n",
    "# Convert RDD to DataFrame\n",
    "\n",
    "df_pharma = total_penalty_by_government_rdd.toDF([\"Level_of_Government\", \"Total_Penalty_Amount\"])\n",
    "\n",
    "# Sort DataFrame by \"Total_Penalty_Amount\"\n",
    "\n",
    "sorted_df = df_pharma.orderBy(df_pharma[\"Total_Penalty_Amount\"].desc())\n",
    "\n",
    "# Chnage Total_Penalty_Amount column name and convert Values to Millions\n",
    "\n",
    "sorted_df = sorted_df.withColumn(\"Total_Penalty_Amount_Million\", round(col(\"Total_Penalty_Amount\") / 1000000, 2))\n",
    "\n",
    "# Drop the original column Total_Penalty_Amount\n",
    "\n",
    "sorted_df = sorted_df.drop(\"Total_Penalty_Amount\")\n",
    "\n",
    "# Show the DataFrame\n",
    "\n",
    "sorted_df.show(truncate=False)\n"
   ]
  },
  {
   "cell_type": "code",
   "execution_count": 0,
   "metadata": {
    "application/vnd.databricks.v1+cell": {
     "cellMetadata": {
      "byteLimit": 2048000,
      "rowLimit": 10000
     },
     "inputWidgets": {},
     "nuid": "de38f110-1c2c-4828-bee6-6b745f3ccda3",
     "showTitle": false,
     "title": ""
    }
   },
   "outputs": [
    {
     "output_type": "display_data",
     "data": {
      "image/png": "[encoded data removed]"
     },
     "metadata": {
      "application/vnd.databricks.v1+output": {
       "addedWidgets": {},
       "arguments": {},
       "data": "data:image/png;base64,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\n",
       "datasetInfos": [],
       "metadata": {},
       "removedWidgets": [],
       "type": "image"
      }
     },
     "output_type": "display_data"
    }
   ],
   "source": [
    "### Visualization for Total Penalty Amount at each Level of Government\n",
    "\n",
    "import matplotlib.pyplot as plt\n",
    "\n",
    "# Collect data from DataFrame\n",
    "\n",
    "levels_of_government = sorted_df.select(\"Level_of_Government\").rdd.flatMap(lambda x: x).collect()\n",
    "total_penalty_amounts = sorted_df.select(\"Total_Penalty_Amount_Million\").rdd.flatMap(lambda x: x).collect()\n",
    "\n",
    "# Plotting the data\n",
    "\n",
    "plt.figure(figsize=(8, 6))\n",
    "plt.bar(levels_of_government, total_penalty_amounts, color='skyblue')\n",
    "plt.xlabel('Level of Government')\n",
    "plt.ylabel('Total Penalty Amount (Million $)')\n",
    "plt.title('Penalty Amounts by Level of Government')\n",
    "plt.tight_layout()\n",
    "plt.show()\n"
   ]
  },
  {
   "cell_type": "code",
   "execution_count": 0,
   "metadata": {
    "application/vnd.databricks.v1+cell": {
     "cellMetadata": {
      "byteLimit": 2048000,
      "rowLimit": 10000
     },
     "inputWidgets": {},
     "nuid": "fc5fbb25-b6dc-4fde-bef4-9ead59687d63",
     "showTitle": false,
     "title": ""
    }
   },
   "outputs": [],
   "source": []
  }
 ],
 "metadata": {
  "application/vnd.databricks.v1+notebook": {
   "dashboards": [],
   "language": "python",
   "notebookMetadata": {
    "mostRecentlyExecutedCommandWithImplicitDF": {
     "commandId": 4402755243903628,
     "dataframes": [
      "_sqldf"
     ]
    },
    "pythonIndentUnit": 4
   },
   "notebookName": "Shumaila_Naz_rdd",
   "widgets": {}
  }
 },
 "nbformat": 4,
 "nbformat_minor": 0
}
